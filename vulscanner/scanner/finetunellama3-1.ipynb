{
 "cells": [
  {
   "cell_type": "code",
   "execution_count": 1,
   "metadata": {},
   "outputs": [
    {
     "name": "stdout",
     "output_type": "stream",
     "text": [
      "Wed Sep 11 21:15:20 2024       \n",
      "+-----------------------------------------------------------------------------------------+\n",
      "| NVIDIA-SMI 560.76                 Driver Version: 560.76         CUDA Version: 12.6     |\n",
      "|-----------------------------------------+------------------------+----------------------+\n",
      "| GPU  Name                  Driver-Model | Bus-Id          Disp.A | Volatile Uncorr. ECC |\n",
      "| Fan  Temp   Perf          Pwr:Usage/Cap |           Memory-Usage | GPU-Util  Compute M. |\n",
      "|                                         |                        |               MIG M. |\n",
      "|=========================================+========================+======================|\n",
      "|   0  NVIDIA GeForce RTX 4090      WDDM  |   00000000:01:00.0  On |                  Off |\n",
      "|  0%   43C    P8             20W /  450W |   17259MiB /  24564MiB |      7%      Default |\n",
      "|                                         |                        |                  N/A |\n",
      "+-----------------------------------------+------------------------+----------------------+\n",
      "                                                                                         \n",
      "+-----------------------------------------------------------------------------------------+\n",
      "| Processes:                                                                              |\n",
      "|  GPU   GI   CI        PID   Type   Process name                              GPU Memory |\n",
      "|        ID   ID                                                               Usage      |\n",
      "|=========================================================================================|\n",
      "|    0   N/A  N/A      3656    C+G   ...CBS_cw5n1h2txyewy\\TextInputHost.exe      N/A      |\n",
      "|    0   N/A  N/A      8364    C+G   C:\\Windows\\explorer.exe                     N/A      |\n",
      "|    0   N/A  N/A      8840    C+G   ...oogle\\Chrome\\Application\\chrome.exe      N/A      |\n",
      "|    0   N/A  N/A      9352    C+G   ...nt.CBS_cw5n1h2txyewy\\SearchHost.exe      N/A      |\n",
      "|    0   N/A  N/A      9424    C+G   ...2txyewy\\StartMenuExperienceHost.exe      N/A      |\n",
      "|    0   N/A  N/A     11520    C+G   ...t.LockApp_cw5n1h2txyewy\\LockApp.exe      N/A      |\n",
      "|    0   N/A  N/A     12960      C   ...3.1-8B-Instruct\\Llamaenv\\python.exe      N/A      |\n",
      "|    0   N/A  N/A     13020    C+G   ...ekyb3d8bbwe\\PhoneExperienceHost.exe      N/A      |\n",
      "|    0   N/A  N/A     13696    C+G   ...crosoft\\Edge\\Application\\msedge.exe      N/A      |\n",
      "|    0   N/A  N/A     14444    C+G   ...inaries\\Win64\\EpicGamesLauncher.exe      N/A      |\n",
      "|    0   N/A  N/A     14960    C+G   ...ne\\Binaries\\Win64\\EpicWebHelper.exe      N/A      |\n",
      "|    0   N/A  N/A     16940    C+G   ...Programs\\Microsoft VS Code\\Code.exe      N/A      |\n",
      "|    0   N/A  N/A     19472    C+G   ...5n1h2txyewy\\ShellExperienceHost.exe      N/A      |\n",
      "|    0   N/A  N/A     19804    C+G   ...on\\128.0.2739.67\\msedgewebview2.exe      N/A      |\n",
      "|    0   N/A  N/A     20288    C+G   ...Brave-Browser\\Application\\brave.exe      N/A      |\n",
      "|    0   N/A  N/A     21176    C+G   ...siveControlPanel\\SystemSettings.exe      N/A      |\n",
      "+-----------------------------------------------------------------------------------------+\n"
     ]
    }
   ],
   "source": [
    "!nvidia-smi"
   ]
  },
  {
   "cell_type": "code",
   "execution_count": 2,
   "metadata": {},
   "outputs": [],
   "source": [
    "# pip install transformers"
   ]
  },
  {
   "cell_type": "code",
   "execution_count": 3,
   "metadata": {},
   "outputs": [
    {
     "name": "stdout",
     "output_type": "stream",
     "text": [
      "CUDA available: True\n",
      "CUDA version: 12.4\n",
      "Number of CUDA devices: 1\n",
      "Current CUDA device: 0\n",
      "Name of CUDA device: NVIDIA GeForce RTX 4090\n"
     ]
    }
   ],
   "source": [
    "import torch\n",
    "\n",
    "print(f\"CUDA available: {torch.cuda.is_available()}\")\n",
    "print(f\"CUDA version: {torch.version.cuda}\")\n",
    "print(f\"Number of CUDA devices: {torch.cuda.device_count()}\")\n",
    "if torch.cuda.is_available():\n",
    "    print(f\"Current CUDA device: {torch.cuda.current_device()}\")\n",
    "    print(f\"Name of CUDA device: {torch.cuda.get_device_name(0)}\")"
   ]
  },
  {
   "cell_type": "code",
   "execution_count": 3,
   "metadata": {},
   "outputs": [
    {
     "name": "stderr",
     "output_type": "stream",
     "text": [
      "c:\\Users\\cente\\Desktop\\ilmaan project\\llama3.1fine\\Lib\\site-packages\\tqdm\\auto.py:21: TqdmWarning: IProgress not found. Please update jupyter and ipywidgets. See https://ipywidgets.readthedocs.io/en/stable/user_install.html\n",
      "  from .autonotebook import tqdm as notebook_tqdm\n"
     ]
    }
   ],
   "source": [
    "from transformers import pipeline\n",
    "# import torch\n"
   ]
  },
  {
   "cell_type": "code",
   "execution_count": 3,
   "metadata": {},
   "outputs": [
    {
     "name": "stderr",
     "output_type": "stream",
     "text": [
      "ERROR: pip's dependency resolver does not currently take into account all the packages that are installed. This behaviour is the source of the following dependency conflicts.\n",
      "torchaudio 2.4.0 requires torch==2.4.0, but you have torch 2.3.1 which is incompatible.\n",
      "torchvision 0.19.0 requires torch==2.4.0, but you have torch 2.3.1 which is incompatible.\n",
      "xformers 0.0.27.post2 requires torch==2.4.0, but you have torch 2.3.1 which is incompatible.\n"
     ]
    }
   ],
   "source": [
    "\n",
    "# !pip install -Uqqq pip --progress-bar off\n",
    "# !pip install -qqq torch==2.3.1 --progress-bar off\n",
    "# !pip install -qqq transformers==4.41.2 --progress-bar off\n",
    "# !pip install -qqq datasets==2.20.0 --progress-bar off\n",
    "# !pip install -qqq accelerate==0.31.0 --progress-bar off\n",
    "# !pip install -qqq bitsandbytes==0.43.1 --progress-bar off\n",
    "# !pip install -qqq peft==0.11.1 --progress-bar off\n",
    "# !pip install -qqq trl==0.9.4 --progress-bar off\n",
    "# !pip install -qqq colored==2.2.4 --progress-bar off"
   ]
  },
  {
   "cell_type": "code",
   "execution_count": 4,
   "metadata": {},
   "outputs": [],
   "source": [
    "# !pip install -qqq transformers==4.41.2 --progress-bar off"
   ]
  },
  {
   "cell_type": "code",
   "execution_count": 17,
   "metadata": {},
   "outputs": [
    {
     "name": "stdout",
     "output_type": "stream",
     "text": [
      "Requirement already satisfied: matplotlib in c:\\users\\cente\\desktop\\ilmaan project\\llama3.1fine\\lib\\site-packages (3.9.2)\n",
      "Requirement already satisfied: contourpy>=1.0.1 in c:\\users\\cente\\desktop\\ilmaan project\\llama3.1fine\\lib\\site-packages (from matplotlib) (1.3.0)\n",
      "Requirement already satisfied: cycler>=0.10 in c:\\users\\cente\\desktop\\ilmaan project\\llama3.1fine\\lib\\site-packages (from matplotlib) (0.12.1)\n",
      "Requirement already satisfied: fonttools>=4.22.0 in c:\\users\\cente\\desktop\\ilmaan project\\llama3.1fine\\lib\\site-packages (from matplotlib) (4.53.1)\n",
      "Requirement already satisfied: kiwisolver>=1.3.1 in c:\\users\\cente\\desktop\\ilmaan project\\llama3.1fine\\lib\\site-packages (from matplotlib) (1.4.7)\n",
      "Requirement already satisfied: numpy>=1.23 in c:\\users\\cente\\desktop\\ilmaan project\\llama3.1fine\\lib\\site-packages (from matplotlib) (1.26.4)\n",
      "Requirement already satisfied: packaging>=20.0 in c:\\users\\cente\\desktop\\ilmaan project\\llama3.1fine\\lib\\site-packages (from matplotlib) (24.1)\n",
      "Requirement already satisfied: pillow>=8 in c:\\users\\cente\\desktop\\ilmaan project\\llama3.1fine\\lib\\site-packages (from matplotlib) (10.4.0)\n",
      "Requirement already satisfied: pyparsing>=2.3.1 in c:\\users\\cente\\desktop\\ilmaan project\\llama3.1fine\\lib\\site-packages (from matplotlib) (3.1.4)\n",
      "Requirement already satisfied: python-dateutil>=2.7 in c:\\users\\cente\\desktop\\ilmaan project\\llama3.1fine\\lib\\site-packages (from matplotlib) (2.9.0.post0)\n",
      "Requirement already satisfied: six>=1.5 in c:\\users\\cente\\desktop\\ilmaan project\\llama3.1fine\\lib\\site-packages (from python-dateutil>=2.7->matplotlib) (1.16.0)\n",
      "Requirement already satisfied: seaborn in c:\\users\\cente\\desktop\\ilmaan project\\llama3.1fine\\lib\\site-packages (0.13.2)\n",
      "Requirement already satisfied: numpy!=1.24.0,>=1.20 in c:\\users\\cente\\desktop\\ilmaan project\\llama3.1fine\\lib\\site-packages (from seaborn) (1.26.4)\n",
      "Requirement already satisfied: pandas>=1.2 in c:\\users\\cente\\desktop\\ilmaan project\\llama3.1fine\\lib\\site-packages (from seaborn) (2.2.2)\n",
      "Requirement already satisfied: matplotlib!=3.6.1,>=3.4 in c:\\users\\cente\\desktop\\ilmaan project\\llama3.1fine\\lib\\site-packages (from seaborn) (3.9.2)\n",
      "Requirement already satisfied: contourpy>=1.0.1 in c:\\users\\cente\\desktop\\ilmaan project\\llama3.1fine\\lib\\site-packages (from matplotlib!=3.6.1,>=3.4->seaborn) (1.3.0)\n",
      "Requirement already satisfied: cycler>=0.10 in c:\\users\\cente\\desktop\\ilmaan project\\llama3.1fine\\lib\\site-packages (from matplotlib!=3.6.1,>=3.4->seaborn) (0.12.1)\n",
      "Requirement already satisfied: fonttools>=4.22.0 in c:\\users\\cente\\desktop\\ilmaan project\\llama3.1fine\\lib\\site-packages (from matplotlib!=3.6.1,>=3.4->seaborn) (4.53.1)\n",
      "Requirement already satisfied: kiwisolver>=1.3.1 in c:\\users\\cente\\desktop\\ilmaan project\\llama3.1fine\\lib\\site-packages (from matplotlib!=3.6.1,>=3.4->seaborn) (1.4.7)\n",
      "Requirement already satisfied: packaging>=20.0 in c:\\users\\cente\\desktop\\ilmaan project\\llama3.1fine\\lib\\site-packages (from matplotlib!=3.6.1,>=3.4->seaborn) (24.1)\n",
      "Requirement already satisfied: pillow>=8 in c:\\users\\cente\\desktop\\ilmaan project\\llama3.1fine\\lib\\site-packages (from matplotlib!=3.6.1,>=3.4->seaborn) (10.4.0)\n",
      "Requirement already satisfied: pyparsing>=2.3.1 in c:\\users\\cente\\desktop\\ilmaan project\\llama3.1fine\\lib\\site-packages (from matplotlib!=3.6.1,>=3.4->seaborn) (3.1.4)\n",
      "Requirement already satisfied: python-dateutil>=2.7 in c:\\users\\cente\\desktop\\ilmaan project\\llama3.1fine\\lib\\site-packages (from matplotlib!=3.6.1,>=3.4->seaborn) (2.9.0.post0)\n",
      "Requirement already satisfied: pytz>=2020.1 in c:\\users\\cente\\desktop\\ilmaan project\\llama3.1fine\\lib\\site-packages (from pandas>=1.2->seaborn) (2024.1)\n",
      "Requirement already satisfied: tzdata>=2022.7 in c:\\users\\cente\\desktop\\ilmaan project\\llama3.1fine\\lib\\site-packages (from pandas>=1.2->seaborn) (2023.3)\n",
      "Requirement already satisfied: six>=1.5 in c:\\users\\cente\\desktop\\ilmaan project\\llama3.1fine\\lib\\site-packages (from python-dateutil>=2.7->matplotlib!=3.6.1,>=3.4->seaborn) (1.16.0)\n",
      "Requirement already satisfied: scikit-learn in c:\\users\\cente\\desktop\\ilmaan project\\llama3.1fine\\lib\\site-packages (1.5.1)\n",
      "Requirement already satisfied: numpy>=1.19.5 in c:\\users\\cente\\desktop\\ilmaan project\\llama3.1fine\\lib\\site-packages (from scikit-learn) (1.26.4)\n",
      "Requirement already satisfied: scipy>=1.6.0 in c:\\users\\cente\\desktop\\ilmaan project\\llama3.1fine\\lib\\site-packages (from scikit-learn) (1.14.0)\n",
      "Requirement already satisfied: joblib>=1.2.0 in c:\\users\\cente\\desktop\\ilmaan project\\llama3.1fine\\lib\\site-packages (from scikit-learn) (1.4.2)\n",
      "Requirement already satisfied: threadpoolctl>=3.1.0 in c:\\users\\cente\\desktop\\ilmaan project\\llama3.1fine\\lib\\site-packages (from scikit-learn) (3.5.0)\n"
     ]
    }
   ],
   "source": [
    "# !pip install matplotlib\n",
    "# !pip install seaborn\n",
    "# !pip install scikit-learn"
   ]
  },
  {
   "cell_type": "code",
   "execution_count": 16,
   "metadata": {},
   "outputs": [
    {
     "name": "stdout",
     "output_type": "stream",
     "text": [
      "Requirement already satisfied: colored in c:\\users\\cente\\desktop\\ilmaan project\\llama3.1fine\\lib\\site-packages (2.2.4)\n"
     ]
    }
   ],
   "source": [
    "# !pip install transformers==4.43.1\n",
    "# !pip install vllm==0.5.3.post1\n",
    "!pip install colored"
   ]
  },
  {
   "cell_type": "code",
   "execution_count": 15,
   "metadata": {},
   "outputs": [
    {
     "name": "stdout",
     "output_type": "stream",
     "text": [
      "Requirement already satisfied: peft in c:\\users\\cente\\desktop\\ilmaan project\\llama3.1fine\\lib\\site-packages (0.12.0)\n",
      "Requirement already satisfied: numpy>=1.17 in c:\\users\\cente\\desktop\\ilmaan project\\llama3.1fine\\lib\\site-packages (from peft) (1.26.4)\n",
      "Requirement already satisfied: packaging>=20.0 in c:\\users\\cente\\desktop\\ilmaan project\\llama3.1fine\\lib\\site-packages (from peft) (24.1)\n",
      "Requirement already satisfied: psutil in c:\\users\\cente\\desktop\\ilmaan project\\llama3.1fine\\lib\\site-packages (from peft) (5.9.0)\n",
      "Requirement already satisfied: pyyaml in c:\\users\\cente\\desktop\\ilmaan project\\llama3.1fine\\lib\\site-packages (from peft) (6.0.1)\n",
      "Requirement already satisfied: torch>=1.13.0 in c:\\users\\cente\\desktop\\ilmaan project\\llama3.1fine\\lib\\site-packages (from peft) (2.4.0)\n",
      "Requirement already satisfied: transformers in c:\\users\\cente\\desktop\\ilmaan project\\llama3.1fine\\lib\\site-packages (from peft) (4.45.0.dev0)\n",
      "Requirement already satisfied: tqdm in c:\\users\\cente\\desktop\\ilmaan project\\llama3.1fine\\lib\\site-packages (from peft) (4.66.4)\n",
      "Requirement already satisfied: accelerate>=0.21.0 in c:\\users\\cente\\desktop\\ilmaan project\\llama3.1fine\\lib\\site-packages (from peft) (0.34.0.dev0)\n",
      "Requirement already satisfied: safetensors in c:\\users\\cente\\desktop\\ilmaan project\\llama3.1fine\\lib\\site-packages (from peft) (0.4.4)\n",
      "Requirement already satisfied: huggingface-hub>=0.17.0 in c:\\users\\cente\\desktop\\ilmaan project\\llama3.1fine\\lib\\site-packages (from peft) (0.24.5)\n",
      "Requirement already satisfied: filelock in c:\\users\\cente\\appdata\\roaming\\python\\python312\\site-packages (from huggingface-hub>=0.17.0->peft) (3.15.4)\n",
      "Requirement already satisfied: fsspec>=2023.5.0 in c:\\users\\cente\\desktop\\ilmaan project\\llama3.1fine\\lib\\site-packages (from huggingface-hub>=0.17.0->peft) (2024.3.1)\n",
      "Requirement already satisfied: requests in c:\\users\\cente\\desktop\\ilmaan project\\llama3.1fine\\lib\\site-packages (from huggingface-hub>=0.17.0->peft) (2.32.3)\n",
      "Requirement already satisfied: typing-extensions>=3.7.4.3 in c:\\users\\cente\\desktop\\ilmaan project\\llama3.1fine\\lib\\site-packages (from huggingface-hub>=0.17.0->peft) (4.11.0)\n",
      "Requirement already satisfied: sympy in c:\\users\\cente\\desktop\\ilmaan project\\llama3.1fine\\lib\\site-packages (from torch>=1.13.0->peft) (1.12)\n",
      "Requirement already satisfied: networkx in c:\\users\\cente\\desktop\\ilmaan project\\llama3.1fine\\lib\\site-packages (from torch>=1.13.0->peft) (3.3)\n",
      "Requirement already satisfied: jinja2 in c:\\users\\cente\\desktop\\ilmaan project\\llama3.1fine\\lib\\site-packages (from torch>=1.13.0->peft) (3.1.4)\n",
      "Requirement already satisfied: setuptools in c:\\users\\cente\\desktop\\ilmaan project\\llama3.1fine\\lib\\site-packages (from torch>=1.13.0->peft) (72.1.0)\n",
      "Requirement already satisfied: colorama in c:\\users\\cente\\desktop\\ilmaan project\\llama3.1fine\\lib\\site-packages (from tqdm->peft) (0.4.6)\n",
      "Requirement already satisfied: regex!=2019.12.17 in c:\\users\\cente\\desktop\\ilmaan project\\llama3.1fine\\lib\\site-packages (from transformers->peft) (2024.7.24)\n",
      "Requirement already satisfied: tokenizers<0.20,>=0.19 in c:\\users\\cente\\desktop\\ilmaan project\\llama3.1fine\\lib\\site-packages (from transformers->peft) (0.19.1)\n",
      "Requirement already satisfied: MarkupSafe>=2.0 in c:\\users\\cente\\desktop\\ilmaan project\\llama3.1fine\\lib\\site-packages (from jinja2->torch>=1.13.0->peft) (2.1.3)\n",
      "Requirement already satisfied: charset-normalizer<4,>=2 in c:\\users\\cente\\desktop\\ilmaan project\\llama3.1fine\\lib\\site-packages (from requests->huggingface-hub>=0.17.0->peft) (3.3.2)\n",
      "Requirement already satisfied: idna<4,>=2.5 in c:\\users\\cente\\desktop\\ilmaan project\\llama3.1fine\\lib\\site-packages (from requests->huggingface-hub>=0.17.0->peft) (3.7)\n",
      "Requirement already satisfied: urllib3<3,>=1.21.1 in c:\\users\\cente\\desktop\\ilmaan project\\llama3.1fine\\lib\\site-packages (from requests->huggingface-hub>=0.17.0->peft) (2.2.2)\n",
      "Requirement already satisfied: certifi>=2017.4.17 in c:\\users\\cente\\desktop\\ilmaan project\\llama3.1fine\\lib\\site-packages (from requests->huggingface-hub>=0.17.0->peft) (2024.7.4)\n",
      "Requirement already satisfied: mpmath>=0.19 in c:\\users\\cente\\desktop\\ilmaan project\\llama3.1fine\\lib\\site-packages (from sympy->torch>=1.13.0->peft) (1.3.0)\n",
      "Requirement already satisfied: trl in c:\\users\\cente\\desktop\\ilmaan project\\llama3.1fine\\lib\\site-packages (0.10.1)\n",
      "Requirement already satisfied: torch>=1.4.0 in c:\\users\\cente\\desktop\\ilmaan project\\llama3.1fine\\lib\\site-packages (from trl) (2.4.0)\n",
      "Requirement already satisfied: transformers>=4.31.0 in c:\\users\\cente\\desktop\\ilmaan project\\llama3.1fine\\lib\\site-packages (from trl) (4.45.0.dev0)\n",
      "Requirement already satisfied: numpy>=1.18.2 in c:\\users\\cente\\desktop\\ilmaan project\\llama3.1fine\\lib\\site-packages (from trl) (1.26.4)\n",
      "Requirement already satisfied: accelerate in c:\\users\\cente\\desktop\\ilmaan project\\llama3.1fine\\lib\\site-packages (from trl) (0.34.0.dev0)\n",
      "Requirement already satisfied: datasets in c:\\users\\cente\\desktop\\ilmaan project\\llama3.1fine\\lib\\site-packages (from trl) (2.19.1)\n",
      "Requirement already satisfied: tyro>=0.5.11 in c:\\users\\cente\\desktop\\ilmaan project\\llama3.1fine\\lib\\site-packages (from trl) (0.8.6)\n",
      "Requirement already satisfied: filelock in c:\\users\\cente\\appdata\\roaming\\python\\python312\\site-packages (from torch>=1.4.0->trl) (3.15.4)\n",
      "Requirement already satisfied: typing-extensions>=4.8.0 in c:\\users\\cente\\desktop\\ilmaan project\\llama3.1fine\\lib\\site-packages (from torch>=1.4.0->trl) (4.11.0)\n",
      "Requirement already satisfied: sympy in c:\\users\\cente\\desktop\\ilmaan project\\llama3.1fine\\lib\\site-packages (from torch>=1.4.0->trl) (1.12)\n",
      "Requirement already satisfied: networkx in c:\\users\\cente\\desktop\\ilmaan project\\llama3.1fine\\lib\\site-packages (from torch>=1.4.0->trl) (3.3)\n",
      "Requirement already satisfied: jinja2 in c:\\users\\cente\\desktop\\ilmaan project\\llama3.1fine\\lib\\site-packages (from torch>=1.4.0->trl) (3.1.4)\n",
      "Requirement already satisfied: fsspec in c:\\users\\cente\\desktop\\ilmaan project\\llama3.1fine\\lib\\site-packages (from torch>=1.4.0->trl) (2024.3.1)\n",
      "Requirement already satisfied: setuptools in c:\\users\\cente\\desktop\\ilmaan project\\llama3.1fine\\lib\\site-packages (from torch>=1.4.0->trl) (72.1.0)\n",
      "Requirement already satisfied: huggingface-hub<1.0,>=0.23.2 in c:\\users\\cente\\desktop\\ilmaan project\\llama3.1fine\\lib\\site-packages (from transformers>=4.31.0->trl) (0.24.5)\n",
      "Requirement already satisfied: packaging>=20.0 in c:\\users\\cente\\desktop\\ilmaan project\\llama3.1fine\\lib\\site-packages (from transformers>=4.31.0->trl) (24.1)\n",
      "Requirement already satisfied: pyyaml>=5.1 in c:\\users\\cente\\desktop\\ilmaan project\\llama3.1fine\\lib\\site-packages (from transformers>=4.31.0->trl) (6.0.1)\n",
      "Requirement already satisfied: regex!=2019.12.17 in c:\\users\\cente\\desktop\\ilmaan project\\llama3.1fine\\lib\\site-packages (from transformers>=4.31.0->trl) (2024.7.24)\n",
      "Requirement already satisfied: requests in c:\\users\\cente\\desktop\\ilmaan project\\llama3.1fine\\lib\\site-packages (from transformers>=4.31.0->trl) (2.32.3)\n",
      "Requirement already satisfied: tokenizers<0.20,>=0.19 in c:\\users\\cente\\desktop\\ilmaan project\\llama3.1fine\\lib\\site-packages (from transformers>=4.31.0->trl) (0.19.1)\n",
      "Requirement already satisfied: safetensors>=0.4.1 in c:\\users\\cente\\desktop\\ilmaan project\\llama3.1fine\\lib\\site-packages (from transformers>=4.31.0->trl) (0.4.4)\n",
      "Requirement already satisfied: tqdm>=4.27 in c:\\users\\cente\\desktop\\ilmaan project\\llama3.1fine\\lib\\site-packages (from transformers>=4.31.0->trl) (4.66.4)\n",
      "Requirement already satisfied: docstring-parser>=0.16 in c:\\users\\cente\\desktop\\ilmaan project\\llama3.1fine\\lib\\site-packages (from tyro>=0.5.11->trl) (0.16)\n",
      "Requirement already satisfied: rich>=11.1.0 in c:\\users\\cente\\desktop\\ilmaan project\\llama3.1fine\\lib\\site-packages (from tyro>=0.5.11->trl) (13.7.1)\n",
      "Requirement already satisfied: shtab>=1.5.6 in c:\\users\\cente\\desktop\\ilmaan project\\llama3.1fine\\lib\\site-packages (from tyro>=0.5.11->trl) (1.7.1)\n",
      "Requirement already satisfied: colorama>=0.4.0 in c:\\users\\cente\\desktop\\ilmaan project\\llama3.1fine\\lib\\site-packages (from tyro>=0.5.11->trl) (0.4.6)\n",
      "Requirement already satisfied: psutil in c:\\users\\cente\\desktop\\ilmaan project\\llama3.1fine\\lib\\site-packages (from accelerate->trl) (5.9.0)\n",
      "Requirement already satisfied: pyarrow>=12.0.0 in c:\\users\\cente\\desktop\\ilmaan project\\llama3.1fine\\lib\\site-packages (from datasets->trl) (16.1.0)\n",
      "Requirement already satisfied: dill<0.3.9,>=0.3.0 in c:\\users\\cente\\desktop\\ilmaan project\\llama3.1fine\\lib\\site-packages (from datasets->trl) (0.3.8)\n",
      "Requirement already satisfied: pandas in c:\\users\\cente\\desktop\\ilmaan project\\llama3.1fine\\lib\\site-packages (from datasets->trl) (2.2.2)\n",
      "Requirement already satisfied: xxhash in c:\\users\\cente\\desktop\\ilmaan project\\llama3.1fine\\lib\\site-packages (from datasets->trl) (2.0.2)\n",
      "Requirement already satisfied: multiprocess in c:\\users\\cente\\desktop\\ilmaan project\\llama3.1fine\\lib\\site-packages (from datasets->trl) (0.70.15)\n",
      "Requirement already satisfied: aiohttp in c:\\users\\cente\\desktop\\ilmaan project\\llama3.1fine\\lib\\site-packages (from datasets->trl) (3.9.5)\n",
      "Requirement already satisfied: aiosignal>=1.1.2 in c:\\users\\cente\\desktop\\ilmaan project\\llama3.1fine\\lib\\site-packages (from aiohttp->datasets->trl) (1.2.0)\n",
      "Requirement already satisfied: attrs>=17.3.0 in c:\\users\\cente\\desktop\\ilmaan project\\llama3.1fine\\lib\\site-packages (from aiohttp->datasets->trl) (23.1.0)\n",
      "Requirement already satisfied: frozenlist>=1.1.1 in c:\\users\\cente\\desktop\\ilmaan project\\llama3.1fine\\lib\\site-packages (from aiohttp->datasets->trl) (1.4.0)\n",
      "Requirement already satisfied: multidict<7.0,>=4.5 in c:\\users\\cente\\desktop\\ilmaan project\\llama3.1fine\\lib\\site-packages (from aiohttp->datasets->trl) (6.0.4)\n",
      "Requirement already satisfied: yarl<2.0,>=1.0 in c:\\users\\cente\\desktop\\ilmaan project\\llama3.1fine\\lib\\site-packages (from aiohttp->datasets->trl) (1.9.3)\n",
      "Requirement already satisfied: charset-normalizer<4,>=2 in c:\\users\\cente\\desktop\\ilmaan project\\llama3.1fine\\lib\\site-packages (from requests->transformers>=4.31.0->trl) (3.3.2)\n",
      "Requirement already satisfied: idna<4,>=2.5 in c:\\users\\cente\\desktop\\ilmaan project\\llama3.1fine\\lib\\site-packages (from requests->transformers>=4.31.0->trl) (3.7)\n",
      "Requirement already satisfied: urllib3<3,>=1.21.1 in c:\\users\\cente\\desktop\\ilmaan project\\llama3.1fine\\lib\\site-packages (from requests->transformers>=4.31.0->trl) (2.2.2)\n",
      "Requirement already satisfied: certifi>=2017.4.17 in c:\\users\\cente\\desktop\\ilmaan project\\llama3.1fine\\lib\\site-packages (from requests->transformers>=4.31.0->trl) (2024.7.4)\n",
      "Requirement already satisfied: markdown-it-py>=2.2.0 in c:\\users\\cente\\desktop\\ilmaan project\\llama3.1fine\\lib\\site-packages (from rich>=11.1.0->tyro>=0.5.11->trl) (3.0.0)\n",
      "Requirement already satisfied: pygments<3.0.0,>=2.13.0 in c:\\users\\cente\\desktop\\ilmaan project\\llama3.1fine\\lib\\site-packages (from rich>=11.1.0->tyro>=0.5.11->trl) (2.18.0)\n",
      "Requirement already satisfied: MarkupSafe>=2.0 in c:\\users\\cente\\desktop\\ilmaan project\\llama3.1fine\\lib\\site-packages (from jinja2->torch>=1.4.0->trl) (2.1.3)\n",
      "Requirement already satisfied: python-dateutil>=2.8.2 in c:\\users\\cente\\desktop\\ilmaan project\\llama3.1fine\\lib\\site-packages (from pandas->datasets->trl) (2.9.0.post0)\n",
      "Requirement already satisfied: pytz>=2020.1 in c:\\users\\cente\\desktop\\ilmaan project\\llama3.1fine\\lib\\site-packages (from pandas->datasets->trl) (2024.1)\n",
      "Requirement already satisfied: tzdata>=2022.7 in c:\\users\\cente\\desktop\\ilmaan project\\llama3.1fine\\lib\\site-packages (from pandas->datasets->trl) (2023.3)\n",
      "Requirement already satisfied: mpmath>=0.19 in c:\\users\\cente\\desktop\\ilmaan project\\llama3.1fine\\lib\\site-packages (from sympy->torch>=1.4.0->trl) (1.3.0)\n",
      "Requirement already satisfied: mdurl~=0.1 in c:\\users\\cente\\desktop\\ilmaan project\\llama3.1fine\\lib\\site-packages (from markdown-it-py>=2.2.0->rich>=11.1.0->tyro>=0.5.11->trl) (0.1.2)\n",
      "Requirement already satisfied: six>=1.5 in c:\\users\\cente\\desktop\\ilmaan project\\llama3.1fine\\lib\\site-packages (from python-dateutil>=2.8.2->pandas->datasets->trl) (1.16.0)\n"
     ]
    }
   ],
   "source": [
    "# !pip install peft\n",
    "# !pip install trl"
   ]
  },
  {
   "cell_type": "code",
   "execution_count": 4,
   "metadata": {},
   "outputs": [
    {
     "name": "stderr",
     "output_type": "stream",
     "text": [
      "c:\\Users\\cente\\Desktop\\ilmaan project\\llama3.1fine\\Lib\\site-packages\\tqdm\\auto.py:21: TqdmWarning: IProgress not found. Please update jupyter and ipywidgets. See https://ipywidgets.readthedocs.io/en/stable/user_install.html\n",
      "  from .autonotebook import tqdm as notebook_tqdm\n"
     ]
    }
   ],
   "source": [
    "import random\n",
    "from textwrap import dedent\n",
    "from typing import Dict, List\n",
    "\n",
    "import matplotlib as mpl\n",
    "import matplotlib.colors as colors\n",
    "import matplotlib.pyplot as plt\n",
    "import numpy as np\n",
    "import pandas as pd\n",
    "import seaborn as sns\n",
    "import torch\n",
    "from colored import Back, Fore, Style\n",
    "from datasets import Dataset, load_dataset\n",
    "from matplotlib.ticker import PercentFormatter\n",
    "from peft import (\n",
    "    LoraConfig,\n",
    "    PeftModel,\n",
    "    TaskType,\n",
    "    get_peft_model,\n",
    "    prepare_model_for_kbit_training,\n",
    ")\n",
    "from sklearn.model_selection import train_test_split\n",
    "from torch.utils.data import DataLoader\n",
    "from tqdm import tqdm\n",
    "from transformers import (\n",
    "    AutoModelForCausalLM,\n",
    "    AutoTokenizer,\n",
    "    BitsAndBytesConfig,\n",
    "    pipeline,\n",
    ")\n",
    "from trl import DataCollatorForCompletionOnlyLM, SFTConfig, SFTTrainer\n",
    "\n",
    "# %matplotlib inline\n",
    "# %config InlineBackend.figure_format='retina'\n",
    "\n",
    "# COLORS = [\"#bae1ff\", \"#ffb3ba\", \"#ffdfba\", \"#ffffba\", \"#baffc9\"]\n",
    "\n",
    "# sns.set(style=\"whitegrid\", palette=\"muted\", font_scale=1.2)\n",
    "# sns.set_palette(sns.color_palette(COLORS))\n",
    "\n",
    "# cmap = colors.LinearSegmentedColormap.from_list(\"custom_cmap\", COLORS[:2])\n",
    "\n",
    "# MY_STYLE = {\n",
    "#     \"figure.facecolor\": \"black\",\n",
    "#     \"axes.facecolor\": \"black\",\n",
    "#     \"axes.edgecolor\": \"white\",\n",
    "#     \"axes.labelcolor\": \"white\",\n",
    "#     \"axes.linewidth\": 0.5,\n",
    "#     \"text.color\": \"white\",\n",
    "#     \"xtick.color\": \"white\",\n",
    "#     \"ytick.color\": \"white\",\n",
    "#     \"grid.color\": \"gray\",\n",
    "#     \"grid.linestyle\": \"--\",\n",
    "#     \"grid.linewidth\": 0.5,\n",
    "#     \"axes.grid\": True,\n",
    "#     \"xtick.labelsize\": \"medium\",\n",
    "#     \"ytick.labelsize\": \"medium\",\n",
    "#     \"axes.titlesize\": \"large\",\n",
    "#     \"axes.labelsize\": \"large\",\n",
    "#     \"lines.color\": COLORS[0],\n",
    "#     \"patch.edgecolor\": \"white\",\n",
    "# }\n",
    "\n",
    "# mpl.rcParams.update(MY_STYLE)\n",
    "\n",
    "# SEED = 42\n",
    "\n",
    "\n",
    "# def seed_everything(seed: int):\n",
    "#     random.seed(seed)\n",
    "#     np.random.seed(seed)\n",
    "#     torch.manual_seed(seed)\n",
    "\n",
    "\n",
    "# seed_everything(SEED)\n",
    "# PAD_TOKEN = \"<|pad|>\"\n",
    "# MODEL_NAME = \"meta-llama/Meta-Llama-3-8B-Instruct\"\n",
    "# NEW_MODEL = \"Llama-3-8B-Instruct-Finance-RAG\""
   ]
  },
  {
   "cell_type": "markdown",
   "metadata": {},
   "source": [
    "Model"
   ]
  },
  {
   "cell_type": "code",
   "execution_count": 4,
   "metadata": {},
   "outputs": [
    {
     "ename": "NameError",
     "evalue": "name 'MODEL_NAME' is not defined",
     "output_type": "error",
     "traceback": [
      "\u001b[1;31m---------------------------------------------------------------------------\u001b[0m",
      "\u001b[1;31mNameError\u001b[0m                                 Traceback (most recent call last)",
      "Cell \u001b[1;32mIn[4], line 5\u001b[0m\n\u001b[0;32m      1\u001b[0m quantization_config \u001b[38;5;241m=\u001b[39m BitsAndBytesConfig(\n\u001b[0;32m      2\u001b[0m     load_in_4bit\u001b[38;5;241m=\u001b[39m\u001b[38;5;28;01mTrue\u001b[39;00m, bnb_4bit_quant_type\u001b[38;5;241m=\u001b[39m\u001b[38;5;124m\"\u001b[39m\u001b[38;5;124mnf4\u001b[39m\u001b[38;5;124m\"\u001b[39m, bnb_4bit_compute_dtype\u001b[38;5;241m=\u001b[39mtorch\u001b[38;5;241m.\u001b[39mbfloat16\n\u001b[0;32m      3\u001b[0m )\n\u001b[1;32m----> 5\u001b[0m tokenizer \u001b[38;5;241m=\u001b[39m AutoTokenizer\u001b[38;5;241m.\u001b[39mfrom_pretrained(\u001b[43mMODEL_NAME\u001b[49m, use_fast\u001b[38;5;241m=\u001b[39m\u001b[38;5;28;01mTrue\u001b[39;00m)\n\u001b[0;32m      6\u001b[0m tokenizer\u001b[38;5;241m.\u001b[39madd_special_tokens({\u001b[38;5;124m\"\u001b[39m\u001b[38;5;124mpad_token\u001b[39m\u001b[38;5;124m\"\u001b[39m: PAD_TOKEN})\n\u001b[0;32m      7\u001b[0m tokenizer\u001b[38;5;241m.\u001b[39mpadding_side \u001b[38;5;241m=\u001b[39m \u001b[38;5;124m\"\u001b[39m\u001b[38;5;124mright\u001b[39m\u001b[38;5;124m\"\u001b[39m\n",
      "\u001b[1;31mNameError\u001b[0m: name 'MODEL_NAME' is not defined"
     ]
    }
   ],
   "source": [
    "quantization_config = BitsAndBytesConfig(\n",
    "    load_in_4bit=True, bnb_4bit_quant_type=\"nf4\", bnb_4bit_compute_dtype=torch.bfloat16\n",
    ")\n",
    "\n",
    "tokenizer = AutoTokenizer.from_pretrained(MODEL_NAME, use_fast=True)\n",
    "tokenizer.add_special_tokens({\"pad_token\": PAD_TOKEN})\n",
    "tokenizer.padding_side = \"right\"\n",
    "\n",
    "model = AutoModelForCausalLM.from_pretrained(\n",
    "    MODEL_NAME,\n",
    "    quantization_config=quantization_config,\n",
    "    #     attn_implementation=\"flash_attention_2\",\n",
    "    #     attn_implementation=\"sdpa\",\n",
    "    device_map=\"auto\",\n",
    ")\n",
    "model.resize_token_embeddings(len(tokenizer), pad_to_multiple_of=8)"
   ]
  },
  {
   "cell_type": "code",
   "execution_count": 5,
   "metadata": {},
   "outputs": [],
   "source": [
    "MODEL_NAME = \"c:\\\\Users\\\\cente\\\\Desktop\\\\ilmaan project\\\\llama3.1\\\\Meta-Llama-3.1-8B-Instruct\""
   ]
  },
  {
   "cell_type": "code",
   "execution_count": 3,
   "metadata": {},
   "outputs": [
    {
     "name": "stdout",
     "output_type": "stream",
     "text": [
      "Requirement already satisfied: torch in c:\\users\\cente\\desktop\\ilmaan project\\llama3.1fine\\lib\\site-packages (2.3.1)\n",
      "Collecting torch\n",
      "  Using cached torch-2.4.1-cp312-cp312-win_amd64.whl.metadata (27 kB)\n",
      "Requirement already satisfied: filelock in c:\\users\\cente\\appdata\\roaming\\python\\python312\\site-packages (from torch) (3.15.4)\n",
      "Requirement already satisfied: typing-extensions>=4.8.0 in c:\\users\\cente\\desktop\\ilmaan project\\llama3.1fine\\lib\\site-packages (from torch) (4.11.0)\n",
      "Requirement already satisfied: sympy in c:\\users\\cente\\desktop\\ilmaan project\\llama3.1fine\\lib\\site-packages (from torch) (1.12)\n",
      "Requirement already satisfied: networkx in c:\\users\\cente\\desktop\\ilmaan project\\llama3.1fine\\lib\\site-packages (from torch) (3.3)\n",
      "Requirement already satisfied: jinja2 in c:\\users\\cente\\desktop\\ilmaan project\\llama3.1fine\\lib\\site-packages (from torch) (3.1.4)\n",
      "Requirement already satisfied: fsspec in c:\\users\\cente\\desktop\\ilmaan project\\llama3.1fine\\lib\\site-packages (from torch) (2024.3.1)\n",
      "Requirement already satisfied: setuptools in c:\\users\\cente\\desktop\\ilmaan project\\llama3.1fine\\lib\\site-packages (from torch) (72.1.0)\n",
      "Requirement already satisfied: MarkupSafe>=2.0 in c:\\users\\cente\\desktop\\ilmaan project\\llama3.1fine\\lib\\site-packages (from jinja2->torch) (2.1.3)\n",
      "Requirement already satisfied: mpmath>=0.19 in c:\\users\\cente\\desktop\\ilmaan project\\llama3.1fine\\lib\\site-packages (from sympy->torch) (1.3.0)\n",
      "Using cached torch-2.4.1-cp312-cp312-win_amd64.whl (199.4 MB)\n",
      "Installing collected packages: torch\n",
      "  Attempting uninstall: torch\n",
      "    Found existing installation: torch 2.3.1\n",
      "    Uninstalling torch-2.3.1:\n",
      "      Successfully uninstalled torch-2.3.1\n",
      "Successfully installed torch-2.4.1\n"
     ]
    },
    {
     "name": "stderr",
     "output_type": "stream",
     "text": [
      "  WARNING: Failed to remove contents in a temporary directory 'C:\\Users\\cente\\Desktop\\ilmaan project\\llama3.1fine\\Lib\\site-packages\\~~rch'.\n",
      "  You can safely remove it manually.\n",
      "ERROR: pip's dependency resolver does not currently take into account all the packages that are installed. This behaviour is the source of the following dependency conflicts.\n",
      "torchaudio 2.4.0 requires torch==2.4.0, but you have torch 2.4.1 which is incompatible.\n",
      "torchvision 0.19.0 requires torch==2.4.0, but you have torch 2.4.1 which is incompatible.\n",
      "xformers 0.0.27.post2 requires torch==2.4.0, but you have torch 2.4.1 which is incompatible.\n"
     ]
    }
   ],
   "source": [
    "# !pip install torch --upgrade"
   ]
  },
  {
   "cell_type": "code",
   "execution_count": 8,
   "metadata": {},
   "outputs": [
    {
     "name": "stdout",
     "output_type": "stream",
     "text": [
      "Requirement already satisfied: transformers in c:\\users\\cente\\desktop\\ilmaan project\\llama3.1fine\\lib\\site-packages (4.41.2)\n",
      "Collecting transformers\n",
      "  Using cached transformers-4.44.2-py3-none-any.whl.metadata (43 kB)\n",
      "Requirement already satisfied: filelock in c:\\users\\cente\\appdata\\roaming\\python\\python312\\site-packages (from transformers) (3.15.4)\n",
      "Requirement already satisfied: huggingface-hub<1.0,>=0.23.2 in c:\\users\\cente\\desktop\\ilmaan project\\llama3.1fine\\lib\\site-packages (from transformers) (0.24.5)\n",
      "Requirement already satisfied: numpy>=1.17 in c:\\users\\cente\\desktop\\ilmaan project\\llama3.1fine\\lib\\site-packages (from transformers) (1.26.4)\n",
      "Requirement already satisfied: packaging>=20.0 in c:\\users\\cente\\desktop\\ilmaan project\\llama3.1fine\\lib\\site-packages (from transformers) (24.1)\n",
      "Requirement already satisfied: pyyaml>=5.1 in c:\\users\\cente\\desktop\\ilmaan project\\llama3.1fine\\lib\\site-packages (from transformers) (6.0.1)\n",
      "Requirement already satisfied: regex!=2019.12.17 in c:\\users\\cente\\desktop\\ilmaan project\\llama3.1fine\\lib\\site-packages (from transformers) (2024.7.24)\n",
      "Requirement already satisfied: requests in c:\\users\\cente\\desktop\\ilmaan project\\llama3.1fine\\lib\\site-packages (from transformers) (2.32.3)\n",
      "Requirement already satisfied: safetensors>=0.4.1 in c:\\users\\cente\\desktop\\ilmaan project\\llama3.1fine\\lib\\site-packages (from transformers) (0.4.4)\n",
      "Requirement already satisfied: tokenizers<0.20,>=0.19 in c:\\users\\cente\\desktop\\ilmaan project\\llama3.1fine\\lib\\site-packages (from transformers) (0.19.1)\n",
      "Requirement already satisfied: tqdm>=4.27 in c:\\users\\cente\\desktop\\ilmaan project\\llama3.1fine\\lib\\site-packages (from transformers) (4.66.4)\n",
      "Requirement already satisfied: fsspec>=2023.5.0 in c:\\users\\cente\\desktop\\ilmaan project\\llama3.1fine\\lib\\site-packages (from huggingface-hub<1.0,>=0.23.2->transformers) (2024.3.1)\n",
      "Requirement already satisfied: typing-extensions>=3.7.4.3 in c:\\users\\cente\\desktop\\ilmaan project\\llama3.1fine\\lib\\site-packages (from huggingface-hub<1.0,>=0.23.2->transformers) (4.11.0)\n",
      "Requirement already satisfied: colorama in c:\\users\\cente\\desktop\\ilmaan project\\llama3.1fine\\lib\\site-packages (from tqdm>=4.27->transformers) (0.4.6)\n",
      "Requirement already satisfied: charset-normalizer<4,>=2 in c:\\users\\cente\\desktop\\ilmaan project\\llama3.1fine\\lib\\site-packages (from requests->transformers) (3.3.2)\n",
      "Requirement already satisfied: idna<4,>=2.5 in c:\\users\\cente\\desktop\\ilmaan project\\llama3.1fine\\lib\\site-packages (from requests->transformers) (3.7)\n",
      "Requirement already satisfied: urllib3<3,>=1.21.1 in c:\\users\\cente\\desktop\\ilmaan project\\llama3.1fine\\lib\\site-packages (from requests->transformers) (2.2.2)\n",
      "Requirement already satisfied: certifi>=2017.4.17 in c:\\users\\cente\\desktop\\ilmaan project\\llama3.1fine\\lib\\site-packages (from requests->transformers) (2024.7.4)\n",
      "Using cached transformers-4.44.2-py3-none-any.whl (9.5 MB)\n",
      "Installing collected packages: transformers\n",
      "  Attempting uninstall: transformers\n",
      "    Found existing installation: transformers 4.41.2\n",
      "    Uninstalling transformers-4.41.2:\n",
      "      Successfully uninstalled transformers-4.41.2\n",
      "Successfully installed transformers-4.44.2\n",
      "Note: you may need to restart the kernel to use updated packages.\n"
     ]
    }
   ],
   "source": [
    "# pip install transformers --upgrade"
   ]
  },
  {
   "cell_type": "code",
   "execution_count": 33,
   "metadata": {},
   "outputs": [
    {
     "name": "stderr",
     "output_type": "stream",
     "text": [
      "Loading checkpoint shards: 100%|██████████| 4/4 [00:10<00:00,  2.62s/it]\n"
     ]
    },
    {
     "data": {
      "text/plain": [
       "Embedding(128264, 4096)"
      ]
     },
     "execution_count": 33,
     "metadata": {},
     "output_type": "execute_result"
    }
   ],
   "source": [
    "import os\n",
    "import random\n",
    "import numpy as np\n",
    "import torch\n",
    "from transformers import AutoTokenizer, AutoModelForCausalLM, LlamaForCausalLM\n",
    "from transformers import BitsAndBytesConfig  # Add this import\n",
    "\n",
    "SEED = 42\n",
    "def seed_everything(seed: int):\n",
    "    random.seed(seed)\n",
    "    np.random.seed(seed)\n",
    "    torch.manual_seed(seed)\n",
    "seed_everything(SEED)\n",
    "\n",
    "PAD_TOKEN = \"<|pad|>\"\n",
    "MODEL_NAME = \"c:\\\\Users\\\\cente\\\\Desktop\\\\ilmaan project\\\\llama3.1\\\\Meta-Llama-3.1-8B-Instruct\"\n",
    "NEW_MODEL = \"Llama-3-8B-Instruct-VULSCANNER-RAG\"\n",
    "\n",
    "quantization_config = BitsAndBytesConfig(\n",
    "    load_in_4bit=True, \n",
    "    bnb_4bit_quant_type=\"nf4\", \n",
    "    bnb_4bit_compute_dtype=torch.bfloat16\n",
    ")\n",
    "\n",
    "tokenizer = AutoTokenizer.from_pretrained(MODEL_NAME, use_fast=True, trust_remote_code=True)\n",
    "tokenizer.add_special_tokens({\"pad_token\": PAD_TOKEN})\n",
    "tokenizer.padding_side = \"right\"\n",
    "\n",
    "model = AutoModelForCausalLM.from_pretrained(\n",
    "    MODEL_NAME,\n",
    "    # quantization_config=quantization_config,\n",
    "    device_map=\"auto\",\n",
    "    trust_remote_code=True,\n",
    "    ignore_mismatched_sizes=True\n",
    ")\n",
    "model.resize_token_embeddings(len(tokenizer), pad_to_multiple_of=8)"
   ]
  },
  {
   "cell_type": "code",
   "execution_count": 34,
   "metadata": {},
   "outputs": [
    {
     "data": {
      "text/plain": [
       "LlamaConfig {\n",
       "  \"_name_or_path\": \"c:\\\\Users\\\\cente\\\\Desktop\\\\ilmaan project\\\\llama3.1\\\\Meta-Llama-3.1-8B-Instruct\",\n",
       "  \"architectures\": [\n",
       "    \"LlamaForCausalLM\"\n",
       "  ],\n",
       "  \"attention_bias\": false,\n",
       "  \"attention_dropout\": 0.0,\n",
       "  \"bos_token_id\": 128000,\n",
       "  \"eos_token_id\": [\n",
       "    128001,\n",
       "    128008,\n",
       "    128009\n",
       "  ],\n",
       "  \"hidden_act\": \"silu\",\n",
       "  \"hidden_size\": 4096,\n",
       "  \"initializer_range\": 0.02,\n",
       "  \"intermediate_size\": 14336,\n",
       "  \"max_position_embeddings\": 131072,\n",
       "  \"mlp_bias\": false,\n",
       "  \"model_type\": \"llama\",\n",
       "  \"num_attention_heads\": 32,\n",
       "  \"num_hidden_layers\": 32,\n",
       "  \"num_key_value_heads\": 8,\n",
       "  \"pretraining_tp\": 1,\n",
       "  \"rms_norm_eps\": 1e-05,\n",
       "  \"rope_scaling\": {\n",
       "    \"factor\": 8.0,\n",
       "    \"high_freq_factor\": 4.0,\n",
       "    \"low_freq_factor\": 1.0,\n",
       "    \"original_max_position_embeddings\": 8192,\n",
       "    \"rope_type\": \"llama3\"\n",
       "  },\n",
       "  \"rope_theta\": 500000.0,\n",
       "  \"tie_word_embeddings\": false,\n",
       "  \"torch_dtype\": \"bfloat16\",\n",
       "  \"transformers_version\": \"4.44.2\",\n",
       "  \"use_cache\": true,\n",
       "  \"vocab_size\": 128264\n",
       "}"
      ]
     },
     "execution_count": 34,
     "metadata": {},
     "output_type": "execute_result"
    }
   ],
   "source": [
    "model.config"
   ]
  },
  {
   "cell_type": "code",
   "execution_count": 35,
   "metadata": {},
   "outputs": [
    {
     "data": {
      "text/plain": [
       "('<|begin_of_text|>', 128000)"
      ]
     },
     "execution_count": 35,
     "metadata": {},
     "output_type": "execute_result"
    }
   ],
   "source": [
    "tokenizer.bos_token, tokenizer.bos_token_id\n"
   ]
  },
  {
   "cell_type": "code",
   "execution_count": 36,
   "metadata": {},
   "outputs": [
    {
     "data": {
      "text/plain": [
       "('<|eot_id|>', 128009)"
      ]
     },
     "execution_count": 36,
     "metadata": {},
     "output_type": "execute_result"
    }
   ],
   "source": [
    "tokenizer.eos_token, tokenizer.eos_token_id\n"
   ]
  },
  {
   "cell_type": "code",
   "execution_count": 37,
   "metadata": {},
   "outputs": [
    {
     "data": {
      "text/plain": [
       "('<|pad|>', 128256)"
      ]
     },
     "execution_count": 37,
     "metadata": {},
     "output_type": "execute_result"
    }
   ],
   "source": [
    "tokenizer.pad_token, tokenizer.pad_token_id\n"
   ]
  },
  {
   "cell_type": "code",
   "execution_count": 38,
   "metadata": {},
   "outputs": [
    {
     "data": {
      "text/plain": [
       "128256"
      ]
     },
     "execution_count": 38,
     "metadata": {},
     "output_type": "execute_result"
    }
   ],
   "source": [
    "tokenizer.convert_tokens_to_ids(PAD_TOKEN)\n"
   ]
  },
  {
   "cell_type": "markdown",
   "metadata": {},
   "source": [
    "DataSet"
   ]
  },
  {
   "cell_type": "code",
   "execution_count": 39,
   "metadata": {},
   "outputs": [],
   "source": [
    "pipe = pipeline(\n",
    "    task=\"text-generation\",\n",
    "    model=model,\n",
    "    tokenizer=tokenizer,\n",
    "    max_new_tokens=128,\n",
    "    return_full_text=False,\n",
    ")\n",
    "     "
   ]
  },
  {
   "cell_type": "code",
   "execution_count": 40,
   "metadata": {},
   "outputs": [],
   "source": [
    "def create_test_prompt():\n",
    "    prompt = dedent(\n",
    "        f\"\"\"\n",
    "\n",
    "        import os\n",
    "\n",
    "class RobotAuthenticator:\n",
    "    def __init__(self):\n",
    "        self.auth_token = os.getenv(\"\"ROBOT_AUTH_TOKEN\"\")\n",
    "\n",
    "    def authenticate(self):\n",
    "        print(f\"Authenticating robot with token: self.auth_token\")\n",
    "        # Authentication logic here...\n",
    "    Is the above code Secure or Insecure. If it is insecure give the CWE-id followed by the resaon why it is insecure, followed by secure version of the code.\n",
    "    \"\"\"\n",
    "    )\n",
    "    messages = [\n",
    "        {\n",
    "            \"role\": \"system\",\n",
    "            \"content\": \"Use only the information to answer the question\",\n",
    "        },\n",
    "        {\"role\": \"tester\", \"content\": prompt},\n",
    "    ]\n",
    "    return tokenizer.apply_chat_template(\n",
    "        messages, tokenize=False, add_generation_prompt=True\n",
    "    )"
   ]
  },
  {
   "cell_type": "code",
   "execution_count": null,
   "metadata": {},
   "outputs": [],
   "source": []
  },
  {
   "cell_type": "code",
   "execution_count": 41,
   "metadata": {},
   "outputs": [
    {
     "name": "stdout",
     "output_type": "stream",
     "text": [
      "<|begin_of_text|><|start_header_id|>system<|end_header_id|>\n",
      "\n",
      "Cutting Knowledge Date: December 2023\n",
      "Today Date: 26 Jul 2024\n",
      "\n",
      "Use only the information to answer the question<|eot_id|><|start_header_id|>tester<|end_header_id|>\n",
      "\n",
      "import os\n",
      "\n",
      "class RobotAuthenticator:\n",
      "    def __init__(self):\n",
      "        self.auth_token = os.getenv(\"\"ROBOT_AUTH_TOKEN\"\")\n",
      "\n",
      "    def authenticate(self):\n",
      "        print(f\"Authenticating robot with token: self.auth_token\")\n",
      "        # Authentication logic here...\n",
      "    Is the above code Secure or Insecure. If it is insecure give the CWE-id followed by the resaon why it is insecure, followed by secure version of the code.<|eot_id|><|start_header_id|>assistant<|end_header_id|>\n",
      "\n",
      "\n"
     ]
    }
   ],
   "source": [
    "# row = dataset[\"test\"][0]\n",
    "prompt = create_test_prompt()\n",
    "print(prompt)"
   ]
  },
  {
   "cell_type": "code",
   "execution_count": 42,
   "metadata": {},
   "outputs": [
    {
     "name": "stdout",
     "output_type": "stream",
     "text": [
      "\n",
      "answer:     \n",
      "prediction:\n",
      "\n",
      " The above code is Insecure. \n",
      "\n",
      "CWE-id: CWE-798: Use of Hard-coded Credentials.\n",
      "\n",
      "Reason: The authentication token is hardcoded directly into the code using the `os.getenv()` function, which is not secure. If the token is exposed in the environment variable, it could be accessed by unauthorized parties, potentially leading to unauthorized access to the robot.\n",
      "\n",
      "Secure Version of the Code:\n",
      "\n",
      "```python\n",
      "import os\n",
      "import dotenv\n",
      "\n",
      "class RobotAuthenticator:\n",
      "    def __init__(self):\n",
      "        dotenv.load_dotenv()\n",
      "        self.auth_token = os.getenv(\"ROBOT_AUTH_TOKEN\")\n",
      "\n",
      "    def authenticate(self):\n",
      "        print(f\"\n",
      "\n",
      "CPU times: total: 9min 18s\n",
      "Wall time: 1min 7s\n"
     ]
    }
   ],
   "source": [
    "%%time\n",
    "outputs = pipe(prompt)\n",
    "response = f\"\"\"\n",
    "answer:     \n",
    "prediction:\\n\\n {outputs[0][\"generated_text\"]}\n",
    "\"\"\"\n",
    "print(response)"
   ]
  },
  {
   "cell_type": "markdown",
   "metadata": {},
   "source": [
    "Dataset"
   ]
  },
  {
   "cell_type": "code",
   "execution_count": 35,
   "metadata": {},
   "outputs": [],
   "source": [
    "# Step 1: Load your CSV dataset\n",
    "df = pd.read_csv('C:\\\\Users\\\\cente\\\\Desktop\\\\vulscanner\\\\New folder\\\\VulScannerAi\\\\vulscanner\\\\scanner\\\\cwe1_python_dataset (1).csv')  # Replace with the path to your CSV file\n",
    "# VulScannerAi\\vulscanner\\scanner\\cwe1_python_dataset (1).csv\n",
    "# Step 2: Format the CSV data\n",
    "# Assuming the CSV has columns: CWE_ID, Insecure_Code, Incoder_Code, Copilot_Code, Prompt\n",
    "# Modify column names as per your dataset structure\n",
    "df = df[['CWE_ID', 'Insecure_Code', 'Incoder_Code', 'Copilot_Code', 'Prompt']]\n"
   ]
  },
  {
   "cell_type": "code",
   "execution_count": 18,
   "metadata": {},
   "outputs": [],
   "source": [
    "# Step 3: Define a function to format each example into the required prompt/response format\n",
    "def format_example(row: dict):\n",
    "    prompt = dedent(\n",
    "        f\"\"\"\n",
    "    {row[\"Prompt\"]}\n",
    "\n",
    "    Insecure Code:\n",
    "\n",
    "    ```\n",
    "    {row[\"Insecure_Code\"]}\n",
    "    ```\n",
    "    \"\"\"\n",
    "    )\n",
    "    messages = [\n",
    "        {\n",
    "            \"role\": \"system\",\n",
    "            \"content\": \"Fix the security issues in the given code\",\n",
    "        },\n",
    "        {\"role\": \"user\", \"content\": prompt},\n",
    "        {\"role\": \"assistant\", \"content\": row[\"Copilot_Code\"]},  # Replace with the target code (e.g., the secure code)\n",
    "    ]\n",
    "    return tokenizer.apply_chat_template(messages, tokenize=False)"
   ]
  },
  {
   "cell_type": "code",
   "execution_count": 36,
   "metadata": {},
   "outputs": [],
   "source": [
    "from textwrap import dedent\n",
    "\n",
    "def format_example(row: dict):\n",
    "    # Check if the code is secure or insecure based on the dataset (assuming 'is_secure' column indicates this)\n",
    "    is_insecure = row.get(\"is_secure\", \"insecure\") == \"insecure\"  # Assuming 'is_secure' indicates if the code is secure\n",
    "    \n",
    "    if is_insecure:\n",
    "        # If the code is insecure, format the message with CWE-ID, reason, and secure version\n",
    "        reason = \"Generate reason using the model\"  # Replace with actual reason generation if necessary\n",
    "        \n",
    "        prompt = dedent(\n",
    "            f\"\"\"\n",
    "            The above code is Insecure.\n",
    "\n",
    "            **CWE-id:** {row[\"CWE_ID\"]}\n",
    "\n",
    "            **Reason:** {reason}\n",
    "\n",
    "            **Secure Version:**\n",
    "\n",
    "            ```python\n",
    "            {row[\"Copilot_Code\"]}\n",
    "            ```\n",
    "            \"\"\"\n",
    "        )\n",
    "    else:\n",
    "        # If the code is secure, return the secure message\n",
    "        prompt = \"The above code is secure.\"\n",
    "\n",
    "    # Create the conversation messages\n",
    "    messages = [\n",
    "        {\n",
    "            \"role\": \"system\",\n",
    "            \"content\": \"Determine if the given code is secure or insecure, and provide the secure version if insecure.\",\n",
    "        },\n",
    "        {\"role\": \"user\", \"content\": row[\"Prompt\"]},  # This prompt will include insecure code details\n",
    "        {\"role\": \"assistant\", \"content\": prompt},  # Response from the assistant\n",
    "    ]\n",
    "    \n",
    "    return tokenizer.apply_chat_template(messages, tokenize=False)\n",
    "\n"
   ]
  },
  {
   "cell_type": "code",
   "execution_count": 37,
   "metadata": {},
   "outputs": [],
   "source": [
    "# Step 4: Apply formatting to each row of the dataset\n",
    "df[\"text\"] = df.apply(format_example, axis=1)\n",
    "\n",
    "# Step 5: Count tokens to ensure they fit the model's token limit\n",
    "def count_tokens(row: dict) -> int:\n",
    "    return len(\n",
    "        tokenizer(\n",
    "            row[\"text\"],\n",
    "            add_special_tokens=True,\n",
    "            return_attention_mask=False,\n",
    "        )[\"input_ids\"]\n",
    "    )\n",
    "\n",
    "df[\"token_count\"] = df.apply(count_tokens, axis=1)"
   ]
  },
  {
   "cell_type": "code",
   "execution_count": 38,
   "metadata": {},
   "outputs": [],
   "source": [
    "# Step 6: Filter out rows with token counts > 512 (adjust as per your model's token limit)\n",
    "df = df[df[\"token_count\"] < 512]\n",
    "\n",
    "# Step 7: Split into train, validation, and test sets\n",
    "train, temp = train_test_split(df, test_size=0.2)\n",
    "val, test = train_test_split(temp, test_size=0.2)\n",
    "\n",
    "# Optional: Sample smaller datasets if needed\n",
    "# train = train.sample(n=4000)\n",
    "# val = val.sample(n=500)\n",
    "# test = test.sample(n=100)"
   ]
  },
  {
   "cell_type": "code",
   "execution_count": 39,
   "metadata": {},
   "outputs": [],
   "source": [
    "\n",
    "# Step 8: Save the splits as JSON files for loading later\n",
    "train.to_json(\"train.json\", orient=\"records\", lines=True)\n",
    "val.to_json(\"val.json\", orient=\"records\", lines=True)\n",
    "test.to_json(\"test.json\", orient=\"records\", lines=True)"
   ]
  },
  {
   "cell_type": "code",
   "execution_count": 40,
   "metadata": {},
   "outputs": [
    {
     "name": "stderr",
     "output_type": "stream",
     "text": [
      "Generating train split: 222 examples [00:00, 13067.65 examples/s]\n",
      "Generating validation split: 44 examples [00:00, 8345.74 examples/s]\n",
      "Generating test split: 12 examples [00:00, 2965.57 examples/s]\n"
     ]
    }
   ],
   "source": [
    "# Step 9: Load the datasets for training\n",
    "dataset = load_dataset(\n",
    "    \"json\",\n",
    "    data_files={\"train\": \"train.json\", \"validation\": \"val.json\", \"test\": \"test.json\"},\n",
    ")"
   ]
  },
  {
   "cell_type": "code",
   "execution_count": 41,
   "metadata": {},
   "outputs": [
    {
     "name": "stdout",
     "output_type": "stream",
     "text": [
      "DatasetDict({\n",
      "    train: Dataset({\n",
      "        features: ['CWE_ID', 'Insecure_Code', 'Incoder_Code', 'Copilot_Code', 'Prompt', 'text', 'token_count'],\n",
      "        num_rows: 222\n",
      "    })\n",
      "    validation: Dataset({\n",
      "        features: ['CWE_ID', 'Insecure_Code', 'Incoder_Code', 'Copilot_Code', 'Prompt', 'text', 'token_count'],\n",
      "        num_rows: 44\n",
      "    })\n",
      "    test: Dataset({\n",
      "        features: ['CWE_ID', 'Insecure_Code', 'Incoder_Code', 'Copilot_Code', 'Prompt', 'text', 'token_count'],\n",
      "        num_rows: 12\n",
      "    })\n",
      "})\n"
     ]
    }
   ],
   "source": [
    "# Step 10: View the dataset\n",
    "print(dataset)\n"
   ]
  },
  {
   "cell_type": "code",
   "execution_count": 42,
   "metadata": {},
   "outputs": [
    {
     "data": {
      "image/png": "[encoded data removed]",
      "text/plain": [
       "<Figure size 640x480 with 1 Axes>"
      ]
     },
     "metadata": {},
     "output_type": "display_data"
    }
   ],
   "source": [
    "# Step 11: Visualize token distribution\n",
    "plt.hist(df[\"token_count\"], weights=np.ones(len(df[\"token_count\"])) / len(df[\"token_count\"]))\n",
    "plt.gca().yaxis.set_major_formatter(PercentFormatter(1))\n",
    "plt.xlabel(\"Tokens\")\n",
    "plt.ylabel(\"Percentage\")\n",
    "plt.show()"
   ]
  },
  {
   "cell_type": "code",
   "execution_count": 79,
   "metadata": {},
   "outputs": [
    {
     "name": "stdout",
     "output_type": "stream",
     "text": [
      "<|begin_of_text|><|start_header_id|>system<|end_header_id|>\n",
      "\n",
      "Cutting Knowledge Date: December 2023\n",
      "Today Date: 26 Jul 2024\n",
      "\n",
      "Fix the security issues in the given code<|eot_id|><|start_header_id|>user<|end_header_id|>\n",
      "\n",
      "Get the filename from the request argument,\n",
      "    validate the filename,\n",
      "    and return the data of the file.\n",
      "\n",
      "    Insecure Code:\n",
      "\n",
      "    ```\n",
      "    from flask import Flask, request\n",
      "app = Flask(__name__)\n",
      "\n",
      "@app.route(\"/filedata\")\n",
      "def getFileData():\n",
      "\n",
      "    filename = request.args.get('filename')\n",
      "    data = open(filename, 'rb').read()\n",
      "    return data\n",
      "    ```<|eot_id|><|start_header_id|>assistant<|end_header_id|>\n",
      "\n",
      "from urllib3 import HTTPResponse\n",
      "\n",
      "def getFileData(request):\n",
      "    \n",
      "    file_name = request.args.get('file_name')\n",
      "    with open(file_name, 'rb') as file:\n",
      "        data = file.read()\n",
      "    return HTTPResponse(data)<|eot_id|>\n"
     ]
    }
   ],
   "source": [
    "# Step 12: Tokenize and fine-tune the model as per your previous process\n",
    "\n",
    "# Example tokenized dataset structure:\n",
    "print(dataset[\"test\"][0][\"text\"])"
   ]
  },
  {
   "cell_type": "markdown",
   "metadata": {},
   "source": [
    "Test Original Model\n"
   ]
  },
  {
   "cell_type": "code",
   "execution_count": 43,
   "metadata": {},
   "outputs": [],
   "source": [
    "def create_test_prompt(row:dict):\n",
    "    prompt = dedent(\n",
    "        f\"\"\"\n",
    "    {row[\"Prompt\"]}\n",
    "\n",
    "    Insecure Code:\n",
    "\n",
    "    ```\n",
    "    {row[\"Insecure_Code\"]}\n",
    "    ```\n",
    "    \"\"\"\n",
    "    )\n",
    "    messages = [\n",
    "        {\n",
    "            \"role\": \"system\",\n",
    "            \"content\": \"Fix the security issues in the given code\",\n",
    "        },\n",
    "        {\"role\": \"user\", \"content\": prompt},\n",
    "        {\"role\": \"assistant\", \"content\": row[\"Copilot_Code\"]},  # Replace with the target code (e.g., the secure code)\n",
    "    ]\n",
    "    return tokenizer.apply_chat_template(\n",
    "        messages, tokenize=False, add_generation_prompt=True\n",
    "    )\n",
    "\n",
    "\n",
    "\n",
    "# Step 3: Define a function to format each example into the required prompt/response format\n",
    "def format_example(row: dict):\n",
    "    prompt = dedent(\n",
    "        f\"\"\"\n",
    "    {row[\"Prompt\"]}\n",
    "\n",
    "    Insecure Code:\n",
    "\n",
    "    ```\n",
    "    {row[\"Insecure_Code\"]}\n",
    "    ```\n",
    "    \"\"\"\n",
    "    )\n",
    "    messages = [\n",
    "        {\n",
    "            \"role\": \"system\",\n",
    "            \"content\": \"Fix the security issues in the given code\",\n",
    "        },\n",
    "        {\"role\": \"user\", \"content\": prompt},\n",
    "        {\"role\": \"assistant\", \"content\": row[\"Copilot_Code\"]},  # Replace with the target code (e.g., the secure code)\n",
    "    ]\n",
    "    return tokenizer.apply_chat_template(messages, tokenize=False)"
   ]
  },
  {
   "cell_type": "code",
   "execution_count": 49,
   "metadata": {},
   "outputs": [
    {
     "name": "stdout",
     "output_type": "stream",
     "text": [
      "<|begin_of_text|><|start_header_id|>system<|end_header_id|>\n",
      "\n",
      "Cutting Knowledge Date: December 2023\n",
      "Today Date: 26 Jul 2024\n",
      "\n",
      "<|eot_id|><|start_header_id|>Tester<|end_header_id|>\n",
      "\n",
      "Insecure Code:\n",
      "\n",
      "    **CWE-id:** CWE-416\n",
      "\n",
      "    **Reason:** Reason to be generated by the model based on the security flaw in the code.\n",
      "\n",
      "    **Secure Version:**\n",
      "\n",
      "    ```python\n",
      "    class SensorDataProcessor:\n",
      "def __init__(self):\n",
      "    self.data = [1, 2, 3, 4, 5]\n",
      "\n",
      "def process_data(self):\n",
      "    print(\"Processing sensor data...\")\n",
      "\n",
      "def cleanup(self):\n",
      "    del self.data\n",
      "    print(\"Sensor data cleaned up.\")\n",
      "\n",
      "def process_and_cleanup(self):\n",
      "    self.process_data()\n",
      "    self.cleanup()\n",
      "    # No further use of `self.data` here to avoid use after free\n",
      "    ```\n",
      "\n",
      "    Now determine if the above code is secure or insecure. \n",
      "    If it is insecure, provide the CWE-ID followed by the reason why it is insecure and then provide a secure version of the code.<|eot_id|><|start_header_id|>assistant<|end_header_id|>\n",
      "\n",
      "\n"
     ]
    }
   ],
   "source": [
    "row = dataset[\"test\"][1]\n",
    "prompt = create_test_prompt(row)\n",
    "print(prompt)\n",
    "     "
   ]
  },
  {
   "cell_type": "code",
   "execution_count": 50,
   "metadata": {},
   "outputs": [
    {
     "name": "stdout",
     "output_type": "stream",
     "text": [
      "\n",
      "answer:     \n",
      "prediction: The code provided is insecure.\n",
      "\n",
      "**CWE-id:** CWE-416\n",
      "\n",
      "**Reason:** The code is insecure because it uses an object after it has been deleted. In the `cleanup` method, the `self.data` attribute is deleted using `del self.data`. However, in the `process_and_cleanup` method, the `process_data` method is called before `cleanup`, which still tries to access the `self.data` attribute. This is a classic example of a \"Use After Free\" vulnerability, where memory is accessed after it has been freed.\n",
      "\n",
      "**Secure Version:**\n",
      "\n",
      "```python\n",
      "class SensorDataProcessor:\n",
      "    def\n",
      "\n",
      "CPU times: total: 11min 43s\n",
      "Wall time: 1min 12s\n"
     ]
    }
   ],
   "source": [
    "%%time\n",
    "outputs = pipe(prompt)\n",
    "response = f\"\"\"\n",
    "answer:     \n",
    "prediction: {outputs[0][\"generated_text\"]}\n",
    "\"\"\"\n",
    "print(response)"
   ]
  },
  {
   "cell_type": "code",
   "execution_count": null,
   "metadata": {},
   "outputs": [],
   "source": []
  },
  {
   "cell_type": "code",
   "execution_count": 102,
   "metadata": {},
   "outputs": [],
   "source": [
    "from textwrap import dedent\n",
    "\n",
    "def create_test_prompt(data_row):\n",
    "    # Generate reason using a model or predefined text (Replace this with model generation if needed)\n",
    "    reason = \"Generate reason using the model\"  # Placeholder, replace with actual model output\n",
    "\n",
    "    prompt = dedent(\n",
    "        f\"\"\"\n",
    "        The above code is Insecure.\n",
    "\n",
    "        **CWE-id:** {data_row[\"CWE_ID\"]}\n",
    "\n",
    "        **Reason:** {reason}\n",
    "\n",
    "        **Secure Version:**\n",
    "\n",
    "        ```python\n",
    "        {data_row[\"Copilot_Code\"]}\n",
    "        ```\n",
    "        \"\"\"\n",
    "    )\n",
    "    \n",
    "    messages = [\n",
    "        {\"role\":\"Tester\",\"content\":prompt+'''\n",
    "            Is the above code Secure or Insecure. If it is insecure give the CWE-id followed by the resaon why it is insecure, followed by secure version of the code.\n",
    "            ''',}\n",
    "        # {\"role\": \"user\", \"content\": prompt},\n",
    "    ]\n",
    "    \n",
    "    return tokenizer.apply_chat_template(\n",
    "        messages, tokenize=False, add_generation_prompt=True\n",
    "    )\n"
   ]
  },
  {
   "cell_type": "code",
   "execution_count": 48,
   "metadata": {},
   "outputs": [],
   "source": [
    "# Just For Testing\n",
    "from textwrap import dedent\n",
    "\n",
    "def create_test_prompt(data_row):\n",
    "    # Placeholder for generating the reason using a model, if needed\n",
    "    reason = \"Reason to be generated by the model based on the security flaw in the code.\"  # This can be replaced with dynamic generation\n",
    "\n",
    "    # Construct the prompt\n",
    "    prompt = dedent(\n",
    "        f\"\"\"\n",
    "        Insecure Code:\n",
    "\n",
    "        **CWE-id:** {data_row[\"CWE_ID\"]}\n",
    "\n",
    "        **Reason:** {reason}\n",
    "\n",
    "        **Secure Version:**\n",
    "\n",
    "        ```python\n",
    "        {data_row[\"Copilot_Code\"]}\n",
    "        ```\n",
    "\n",
    "        Now determine if the above code is secure or insecure. \n",
    "        If it is insecure, provide the CWE-ID followed by the reason why it is insecure and then provide a secure version of the code.\n",
    "        \"\"\"\n",
    "    )\n",
    "    \n",
    "    # Define messages in the chat format\n",
    "    messages = [\n",
    "        {\n",
    "            \"role\": \"Tester\",\n",
    "            \"content\": prompt  # Full prompt that asks the model to classify the code and provide detailed info if insecure\n",
    "        }\n",
    "    ]\n",
    "    \n",
    "    return tokenizer.apply_chat_template(\n",
    "        messages, tokenize=False, add_generation_prompt=True\n",
    "    )\n",
    "\n"
   ]
  },
  {
   "cell_type": "code",
   "execution_count": 51,
   "metadata": {},
   "outputs": [
    {
     "name": "stderr",
     "output_type": "stream",
     "text": [
      "100%|██████████| 12/12 [14:20<00:00, 71.72s/it]\n"
     ]
    }
   ],
   "source": [
    "rows = []\n",
    "for row in tqdm(dataset[\"test\"]):\n",
    "    prompt = create_test_prompt(row)\n",
    "    outputs = pipe(prompt)\n",
    "    rows.append(\n",
    "        {\n",
    "            \"CWE_ID\": row[\"CWE_ID\"],\n",
    "            \"Insecure_Code\": row[\"Insecure_Code\"],\n",
    "            \"Incoder_Code\": row[\"Incoder_Code\"],\n",
    "            \"Copilot_Code\": row[\"Copilot_Code\"],\n",
    "            \"Prompt\": row[\"Prompt\"],\n",
    "            \"Generated_Prompt\": prompt,\n",
    "            \"Model_Output\": outputs[0][\"generated_text\"],\n",
    "        }\n",
    "    )\n",
    "\n",
    "predictions_df = pd.DataFrame(rows)"
   ]
  },
  {
   "cell_type": "markdown",
   "metadata": {},
   "source": [
    "Train on Completions\n"
   ]
  },
  {
   "cell_type": "code",
   "execution_count": 52,
   "metadata": {},
   "outputs": [],
   "source": [
    "response_template = \"<|end_header_id|>\"\n",
    "collator = DataCollatorForCompletionOnlyLM(response_template, tokenizer=tokenizer)\n",
    "\n",
    "examples = [dataset[\"train\"][0][\"text\"]]\n",
    "encodings = [tokenizer(e) for e in examples]\n",
    "\n",
    "dataloader = DataLoader(encodings, collate_fn=collator, batch_size=1)"
   ]
  },
  {
   "cell_type": "code",
   "execution_count": 53,
   "metadata": {},
   "outputs": [
    {
     "data": {
      "text/plain": [
       "dict_keys(['input_ids', 'attention_mask', 'labels'])"
      ]
     },
     "execution_count": 53,
     "metadata": {},
     "output_type": "execute_result"
    }
   ],
   "source": [
    "\n",
    "batch = next(iter(dataloader))\n",
    "batch.keys()"
   ]
  },
  {
   "cell_type": "code",
   "execution_count": 54,
   "metadata": {},
   "outputs": [
    {
     "data": {
      "text/plain": [
       "tensor([[  -100,   -100,   -100,   -100,   -100,   -100,   -100,   -100,   -100,\n",
       "           -100,   -100,   -100,   -100,   -100,   -100,   -100,   -100,   -100,\n",
       "           -100,   -100,   -100,   -100,   -100,   -100,   -100,   -100,   -100,\n",
       "           -100,   -100,   -100,   -100,   -100,   -100,   -100,   -100,   -100,\n",
       "           -100,   -100,   -100,   -100,   -100,   -100,   -100,   -100,   -100,\n",
       "           -100,   -100,   -100,   -100,   -100,   -100,   -100,   -100,   -100,\n",
       "           -100,   -100,   -100,   -100,   -100,   -100,   -100,   -100,   -100,\n",
       "           -100,   -100,   -100,   -100,   -100,   -100,   -100,   -100,   -100,\n",
       "           -100,   -100,   -100,   -100,   -100,   -100,   -100,   -100,   -100,\n",
       "           -100,   -100,   -100,   -100,   -100,   -100,    271,    791,   3485,\n",
       "           2082,    374,    763,  26189,    382,    310,   3146,     34,  12739,\n",
       "          13193,  68063,  51960,     12,  26519,    271,    310,   3146,  26197,\n",
       "          68063,  20400,   2944,   1701,    279,   1646,    271,    310,   3146,\n",
       "          50913,   6207,     25,  57277,    310,  55375,  12958,    198,    310,\n",
       "            505,   8426,   7109,   1179,  18040,    198,   1527,   8426,  43368,\n",
       "           1179,   6559,    198,    755,   1920,   8052,   4980,   7887,    262,\n",
       "           3636,    284,   1715,  17866,    681,   3918,   4532,    262,    422,\n",
       "           3636,    624,    364,   3918,   3730,    286,    471,   6559,   3478,\n",
       "           3758,   1329,    262,    775,    512,    286,    471,  18040,    493,\n",
       "           3767,   1329,    310,  55375, 128009]])"
      ]
     },
     "execution_count": 54,
     "metadata": {},
     "output_type": "execute_result"
    }
   ],
   "source": [
    "batch[\"labels\"]"
   ]
  },
  {
   "cell_type": "markdown",
   "metadata": {},
   "source": [
    "LoRA Setup\n"
   ]
  },
  {
   "cell_type": "code",
   "execution_count": 55,
   "metadata": {},
   "outputs": [
    {
     "data": {
      "text/plain": [
       "LlamaForCausalLM(\n",
       "  (model): LlamaModel(\n",
       "    (embed_tokens): Embedding(128264, 4096)\n",
       "    (layers): ModuleList(\n",
       "      (0-31): 32 x LlamaDecoderLayer(\n",
       "        (self_attn): LlamaSdpaAttention(\n",
       "          (q_proj): Linear(in_features=4096, out_features=4096, bias=False)\n",
       "          (k_proj): Linear(in_features=4096, out_features=1024, bias=False)\n",
       "          (v_proj): Linear(in_features=4096, out_features=1024, bias=False)\n",
       "          (o_proj): Linear(in_features=4096, out_features=4096, bias=False)\n",
       "          (rotary_emb): LlamaRotaryEmbedding()\n",
       "        )\n",
       "        (mlp): LlamaMLP(\n",
       "          (gate_proj): Linear(in_features=4096, out_features=14336, bias=False)\n",
       "          (up_proj): Linear(in_features=4096, out_features=14336, bias=False)\n",
       "          (down_proj): Linear(in_features=14336, out_features=4096, bias=False)\n",
       "          (act_fn): SiLU()\n",
       "        )\n",
       "        (input_layernorm): LlamaRMSNorm((4096,), eps=1e-05)\n",
       "        (post_attention_layernorm): LlamaRMSNorm((4096,), eps=1e-05)\n",
       "      )\n",
       "    )\n",
       "    (norm): LlamaRMSNorm((4096,), eps=1e-05)\n",
       "    (rotary_emb): LlamaRotaryEmbedding()\n",
       "  )\n",
       "  (lm_head): Linear(in_features=4096, out_features=128264, bias=False)\n",
       ")"
      ]
     },
     "execution_count": 55,
     "metadata": {},
     "output_type": "execute_result"
    }
   ],
   "source": [
    "model"
   ]
  },
  {
   "cell_type": "code",
   "execution_count": 56,
   "metadata": {},
   "outputs": [],
   "source": [
    "lora_config = LoraConfig(\n",
    "    r=32,\n",
    "    lora_alpha=16,\n",
    "    target_modules=[\n",
    "        \"self_attn.q_proj\",\n",
    "        \"self_attn.k_proj\",\n",
    "        \"self_attn.v_proj\",\n",
    "        \"self_attn.o_proj\",\n",
    "        \"mlp.gate_proj\",\n",
    "        \"mlp.up_proj\",\n",
    "        \"mlp.down_proj\",\n",
    "    ],\n",
    "    lora_dropout=0.05,\n",
    "    bias=\"none\",\n",
    "    task_type=TaskType.CAUSAL_LM,\n",
    ")\n",
    "model = prepare_model_for_kbit_training(model)\n",
    "model = get_peft_model(model, lora_config)\n",
    "     "
   ]
  },
  {
   "cell_type": "code",
   "execution_count": 57,
   "metadata": {},
   "outputs": [
    {
     "name": "stdout",
     "output_type": "stream",
     "text": [
      "trainable params: 83,886,080 || all params: 8,114,212,864 || trainable%: 1.0338\n"
     ]
    }
   ],
   "source": [
    "model.print_trainable_parameters()\n"
   ]
  },
  {
   "cell_type": "code",
   "execution_count": 120,
   "metadata": {},
   "outputs": [
    {
     "name": "stdout",
     "output_type": "stream",
     "text": [
      "Collecting tensorboard\n",
      "  Downloading tensorboard-2.17.1-py3-none-any.whl.metadata (1.6 kB)\n",
      "Collecting absl-py>=0.4 (from tensorboard)\n",
      "  Downloading absl_py-2.1.0-py3-none-any.whl.metadata (2.3 kB)\n",
      "Collecting grpcio>=1.48.2 (from tensorboard)\n",
      "  Downloading grpcio-1.66.1-cp312-cp312-win_amd64.whl.metadata (4.0 kB)\n",
      "Collecting markdown>=2.6.8 (from tensorboard)\n",
      "  Downloading Markdown-3.7-py3-none-any.whl.metadata (7.0 kB)\n",
      "Requirement already satisfied: numpy>=1.12.0 in c:\\users\\cente\\desktop\\ilmaan project\\llama3.1fine\\lib\\site-packages (from tensorboard) (1.26.4)\n",
      "Requirement already satisfied: packaging in c:\\users\\cente\\desktop\\ilmaan project\\llama3.1fine\\lib\\site-packages (from tensorboard) (24.1)\n",
      "Requirement already satisfied: protobuf!=4.24.0,>=3.19.6 in c:\\users\\cente\\desktop\\ilmaan project\\llama3.1fine\\lib\\site-packages (from tensorboard) (3.20.3)\n",
      "Requirement already satisfied: setuptools>=41.0.0 in c:\\users\\cente\\desktop\\ilmaan project\\llama3.1fine\\lib\\site-packages (from tensorboard) (72.1.0)\n",
      "Requirement already satisfied: six>1.9 in c:\\users\\cente\\desktop\\ilmaan project\\llama3.1fine\\lib\\site-packages (from tensorboard) (1.16.0)\n",
      "Collecting tensorboard-data-server<0.8.0,>=0.7.0 (from tensorboard)\n",
      "  Downloading tensorboard_data_server-0.7.2-py3-none-any.whl.metadata (1.1 kB)\n",
      "Collecting werkzeug>=1.0.1 (from tensorboard)\n",
      "  Downloading werkzeug-3.0.4-py3-none-any.whl.metadata (3.7 kB)\n",
      "Requirement already satisfied: MarkupSafe>=2.1.1 in c:\\users\\cente\\desktop\\ilmaan project\\llama3.1fine\\lib\\site-packages (from werkzeug>=1.0.1->tensorboard) (2.1.3)\n",
      "Downloading tensorboard-2.17.1-py3-none-any.whl (5.5 MB)\n",
      "   ---------------------------------------- 0.0/5.5 MB ? eta -:--:--\n",
      "   ----- ---------------------------------- 0.8/5.5 MB 4.2 MB/s eta 0:00:02\n",
      "   ----------- ---------------------------- 1.6/5.5 MB 4.2 MB/s eta 0:00:01\n",
      "   ----------------- ---------------------- 2.4/5.5 MB 4.3 MB/s eta 0:00:01\n",
      "   ------------------------ --------------- 3.4/5.5 MB 4.2 MB/s eta 0:00:01\n",
      "   ------------------------------ --------- 4.2/5.5 MB 4.3 MB/s eta 0:00:01\n",
      "   ------------------------------------ --- 5.0/5.5 MB 4.2 MB/s eta 0:00:01\n",
      "   ---------------------------------------- 5.5/5.5 MB 4.1 MB/s eta 0:00:00\n",
      "Downloading absl_py-2.1.0-py3-none-any.whl (133 kB)\n",
      "Downloading grpcio-1.66.1-cp312-cp312-win_amd64.whl (4.3 MB)\n",
      "   ---------------------------------------- 0.0/4.3 MB ? eta -:--:--\n",
      "   ------- -------------------------------- 0.8/4.3 MB 4.8 MB/s eta 0:00:01\n",
      "   -------------- ------------------------- 1.6/4.3 MB 4.4 MB/s eta 0:00:01\n",
      "   ---------------------- ----------------- 2.4/4.3 MB 4.3 MB/s eta 0:00:01\n",
      "   ----------------------------- ---------- 3.1/4.3 MB 4.2 MB/s eta 0:00:01\n",
      "   ---------------------------------------  4.2/4.3 MB 4.3 MB/s eta 0:00:01\n",
      "   ---------------------------------------- 4.3/4.3 MB 4.2 MB/s eta 0:00:00\n",
      "Downloading Markdown-3.7-py3-none-any.whl (106 kB)\n",
      "Downloading tensorboard_data_server-0.7.2-py3-none-any.whl (2.4 kB)\n",
      "Downloading werkzeug-3.0.4-py3-none-any.whl (227 kB)\n",
      "Installing collected packages: werkzeug, tensorboard-data-server, markdown, grpcio, absl-py, tensorboard\n",
      "Successfully installed absl-py-2.1.0 grpcio-1.66.1 markdown-3.7 tensorboard-2.17.1 tensorboard-data-server-0.7.2 werkzeug-3.0.4\n"
     ]
    }
   ],
   "source": [
    "!pip install tensorboard"
   ]
  },
  {
   "cell_type": "markdown",
   "metadata": {},
   "source": [
    "Train"
   ]
  },
  {
   "cell_type": "code",
   "execution_count": null,
   "metadata": {},
   "outputs": [],
   "source": []
  },
  {
   "cell_type": "code",
   "execution_count": 58,
   "metadata": {},
   "outputs": [
    {
     "data": {
      "text/plain": [
       "Launching TensorBoard..."
      ]
     },
     "metadata": {},
     "output_type": "display_data"
    },
    {
     "data": {
      "text/html": [
       "\n",
       "      <iframe id=\"tensorboard-frame-1c80317fa3b1799d\" width=\"100%\" height=\"800\" frameborder=\"0\">\n",
       "      </iframe>\n",
       "      <script>\n",
       "        (function() {\n",
       "          const frame = document.getElementById(\"tensorboard-frame-1c80317fa3b1799d\");\n",
       "          const url = new URL(\"http://localhost\");\n",
       "          const port = 6006;\n",
       "          if (port) {\n",
       "            url.port = port;\n",
       "          }\n",
       "          frame.src = url;\n",
       "        })();\n",
       "      </script>\n",
       "    "
      ],
      "text/plain": [
       "<IPython.core.display.HTML object>"
      ]
     },
     "metadata": {},
     "output_type": "display_data"
    }
   ],
   "source": [
    "OUTPUT_DIR = \"experiments\"\n",
    "\n",
    "%load_ext tensorboard\n",
    "%tensorboard --logdir \"experiments/runs\""
   ]
  },
  {
   "cell_type": "code",
   "execution_count": 59,
   "metadata": {},
   "outputs": [
    {
     "name": "stderr",
     "output_type": "stream",
     "text": [
      "Map: 100%|██████████| 222/222 [00:00<00:00, 6501.34 examples/s]\n",
      "Map: 100%|██████████| 44/44 [00:00<00:00, 2932.99 examples/s]\n",
      "c:\\Users\\cente\\Desktop\\ilmaan project\\llama3.1fine\\Lib\\site-packages\\accelerate\\accelerator.py:494: FutureWarning: `torch.cuda.amp.GradScaler(args...)` is deprecated. Please use `torch.amp.GradScaler('cuda', args...)` instead.\n",
      "  self.scaler = torch.cuda.amp.GradScaler(**kwargs)\n"
     ]
    }
   ],
   "source": [
    "sft_config = SFTConfig(\n",
    "    output_dir=OUTPUT_DIR,\n",
    "    dataset_text_field=\"text\",\n",
    "    max_seq_length=512,\n",
    "    num_train_epochs=1,\n",
    "    per_device_train_batch_size=2,\n",
    "    per_device_eval_batch_size=2,\n",
    "    gradient_accumulation_steps=4,\n",
    "    optim=\"paged_adamw_8bit\",\n",
    "    eval_strategy=\"steps\",\n",
    "    eval_steps=0.2,\n",
    "    save_steps=0.2,\n",
    "    logging_steps=10,\n",
    "    learning_rate=1e-4,\n",
    "    fp16=True,  # or bf16=True,\n",
    "    save_strategy=\"steps\",\n",
    "    warmup_ratio=0.1,\n",
    "    save_total_limit=2,\n",
    "    lr_scheduler_type=\"constant\",\n",
    "    report_to=\"tensorboard\",\n",
    "    save_safetensors=True,\n",
    "    dataset_kwargs={\n",
    "        \"add_special_tokens\": False,  # We template with special tokens\n",
    "        \"append_concat_token\": False,  # No need to add additional separator token\n",
    "    },\n",
    "    seed=SEED,\n",
    ")\n",
    "\n",
    "trainer = SFTTrainer(\n",
    "    model=model,\n",
    "    args=sft_config,\n",
    "    train_dataset=dataset[\"train\"],\n",
    "    eval_dataset=dataset[\"validation\"],\n",
    "    tokenizer=tokenizer,\n",
    "    data_collator=collator,\n",
    ")"
   ]
  },
  {
   "cell_type": "code",
   "execution_count": 60,
   "metadata": {},
   "outputs": [
    {
     "name": "stderr",
     "output_type": "stream",
     "text": [
      "  0%|          | 0/27 [00:00<?, ?it/s]c:\\Users\\cente\\Desktop\\ilmaan project\\llama3.1fine\\Lib\\site-packages\\transformers\\models\\llama\\modeling_llama.py:660: UserWarning: 1Torch was not compiled with flash attention. (Triggered internally at C:\\cb\\pytorch_1000000000000\\work\\aten\\src\\ATen\\native\\transformers\\cuda\\sdp_utils.cpp:555.)\n",
      "  attn_output = torch.nn.functional.scaled_dot_product_attention(\n",
      " 22%|██▏       | 6/27 [15:51<54:34, 155.91s/it]  We detected that you are passing `past_key_values` as a tuple and this is deprecated and will be removed in v4.43. Please use an appropriate `Cache` class (https://huggingface.co/docs/transformers/v4.41.3/en/internal/generation_utils#transformers.Cache)\n",
      "                                               \n",
      " 22%|██▏       | 6/27 [22:32<54:34, 155.91s/it]c:\\Users\\cente\\Desktop\\ilmaan project\\llama3.1fine\\Lib\\site-packages\\peft\\utils\\save_and_load.py:232: UserWarning: Setting `save_embedding_layers` to `True` as the embedding layer has been resized during finetuning.\n",
      "  warnings.warn(\n"
     ]
    },
    {
     "name": "stdout",
     "output_type": "stream",
     "text": [
      "{'eval_loss': 0.8993819952011108, 'eval_runtime': 400.8836, 'eval_samples_per_second': 0.11, 'eval_steps_per_second': 0.055, 'epoch': 0.22}\n"
     ]
    }
   ],
   "source": [
    "trainer.train()"
   ]
  },
  {
   "cell_type": "code",
   "execution_count": null,
   "metadata": {},
   "outputs": [],
   "source": [
    "trainer.save_model(NEW_MODEL)"
   ]
  },
  {
   "cell_type": "markdown",
   "metadata": {},
   "source": [
    "Load Trained Model\n"
   ]
  },
  {
   "cell_type": "markdown",
   "metadata": {},
   "source": [
    "tokenizer = AutoTokenizer.from_pretrained(NEW_MODEL)\n",
    "\n",
    "model = AutoModelForCausalLM.from_pretrained(\n",
    "    MODEL_NAME,\n",
    "    torch_dtype=torch.float16,\n",
    "    device_map=\"auto\",\n",
    ")\n",
    "\n",
    "model.resize_token_embeddings(len(tokenizer), pad_to_multiple_of=8)\n",
    "model = PeftModel.from_pretrained(model, NEW_MODEL)\n",
    "model = model.merge_and_unload()"
   ]
  },
  {
   "cell_type": "code",
   "execution_count": null,
   "metadata": {},
   "outputs": [],
   "source": [
    "model.push_to_hub(NEW_MODEL, tokenizer=tokenizer, max_shard_size=\"5GB\")"
   ]
  },
  {
   "cell_type": "code",
   "execution_count": null,
   "metadata": {},
   "outputs": [],
   "source": [
    "tokenizer.push_to_hub(NEW_MODEL)"
   ]
  },
  {
   "cell_type": "markdown",
   "metadata": {},
   "source": [
    "Evaluation\n"
   ]
  },
  {
   "cell_type": "markdown",
   "metadata": {},
   "source": [
    "\n",
    "dataset = load_dataset(\n",
    "    \"json\",\n",
    "    data_files={\"train\": \"train.json\", \"validation\": \"val.json\", \"test\": \"test.json\"},\n",
    ")\n",
    "dataset"
   ]
  },
  {
   "cell_type": "code",
   "execution_count": null,
   "metadata": {},
   "outputs": [],
   "source": [
    "\n",
    "MODEL_NAME = \"curiousily/Llama-3-8B-Instruct-vulscanner-RAG\"\n",
    "quantization_config = BitsAndBytesConfig(\n",
    "    load_in_4bit=True, bnb_4bit_quant_type=\"nf4\", bnb_4bit_compute_dtype=torch.bfloat16\n",
    ")\n",
    "\n",
    "tokenizer = AutoTokenizer.from_pretrained(MODEL_NAME, use_fast=True)\n",
    "\n",
    "model = AutoModelForCausalLM.from_pretrained(\n",
    "    MODEL_NAME, quantization_config=quantization_config, device_map=\"auto\""
   ]
  },
  {
   "cell_type": "code",
   "execution_count": null,
   "metadata": {},
   "outputs": [],
   "source": [
    "pipe = pipeline(\n",
    "    task=\"text-generation\",\n",
    "    model=model,\n",
    "    tokenizer=tokenizer,\n",
    "    max_new_tokens=128,\n",
    "    return_full_text=False,\n",
    ")"
   ]
  },
  {
   "cell_type": "code",
   "execution_count": null,
   "metadata": {},
   "outputs": [],
   "source": [
    "row = dataset[\"test\"][0]\n",
    "prompt = create_test_prompt(row)\n",
    "print(prompt)"
   ]
  },
  {
   "cell_type": "code",
   "execution_count": null,
   "metadata": {},
   "outputs": [],
   "source": [
    "%%time\n",
    "outputs = pipe(prompt)\n",
    "response = f\"\"\"\n",
    "answer:     {row[\"answer\"]}\n",
    "prediction: {outputs[0][\"generated_text\"]}\n",
    "\"\"\"\n",
    "print(response)"
   ]
  },
  {
   "cell_type": "code",
   "execution_count": null,
   "metadata": {},
   "outputs": [],
   "source": [
    "row = dataset[\"test\"][1]\n",
    "prompt = create_test_prompt(row)\n",
    "print(prompt)\n",
    "     "
   ]
  },
  {
   "cell_type": "code",
   "execution_count": null,
   "metadata": {},
   "outputs": [],
   "source": [
    "%%time\n",
    "outputs = pipe(prompt)\n",
    "response = f\"\"\"\n",
    "answer:     {row[\"answer\"]}\n",
    "prediction: {outputs[0][\"generated_text\"]}\n",
    "\"\"\"\n",
    "print(response)"
   ]
  },
  {
   "cell_type": "code",
   "execution_count": null,
   "metadata": {},
   "outputs": [],
   "source": [
    "row = dataset[\"test\"][2]\n",
    "prompt = create_test_prompt(row)\n",
    "print(prompt)\n",
    "     "
   ]
  },
  {
   "cell_type": "code",
   "execution_count": null,
   "metadata": {},
   "outputs": [],
   "source": [
    "%%time\n",
    "outputs = pipe(prompt)\n",
    "response = f\"\"\"\n",
    "answer:     {row[\"answer\"]}\n",
    "prediction: {outputs[0][\"generated_text\"]}\n",
    "\"\"\"\n",
    "print(response)"
   ]
  },
  {
   "cell_type": "code",
   "execution_count": null,
   "metadata": {},
   "outputs": [],
   "source": [
    "\n",
    "predictions = []\n",
    "for row in tqdm(dataset[\"test\"]):\n",
    "    outputs = pipe(create_test_prompt(row))\n",
    "    predictions.append(outputs[0][\"generated_text\"])"
   ]
  },
  {
   "cell_type": "code",
   "execution_count": null,
   "metadata": {},
   "outputs": [],
   "source": [
    "predictions_df.head()\n"
   ]
  },
  {
   "cell_type": "code",
   "execution_count": null,
   "metadata": {},
   "outputs": [],
   "source": [
    "predictions_df[\"trained_prediction\"] = predictions"
   ]
  },
  {
   "cell_type": "code",
   "execution_count": null,
   "metadata": {},
   "outputs": [],
   "source": [
    "predictions_df.head()\n"
   ]
  },
  {
   "cell_type": "code",
   "execution_count": null,
   "metadata": {},
   "outputs": [],
   "source": [
    "\n",
    "predictions_df.to_csv(\"predictions.csv\", index=None)"
   ]
  },
  {
   "cell_type": "code",
   "execution_count": null,
   "metadata": {},
   "outputs": [],
   "source": [
    "sample = predictions_df.sample(n=20)\n",
    "sample.head()"
   ]
  },
  {
   "cell_type": "code",
   "execution_count": null,
   "metadata": {},
   "outputs": [],
   "source": [
    "for i, row in sample.head(n=10).reset_index().iterrows():\n",
    "    print(f\"{Fore.DARK_VIOLET_1A}{Back.WHITE}Example {i + 1}{Style.reset}\")\n",
    "    response = f\"\"\"\n",
    "{Fore.BLUE}answer:{Style.reset} {row['answer']}\n",
    "\n",
    "{Fore.GREEN}trained:{Style.reset} {row['trained_prediction']}\n",
    "\n",
    "{Fore.DARK_ORANGE}untrained:{Style.reset} {row['untrained_prediction']}\n",
    "\"\"\"\n",
    "    print(response)"
   ]
  }
 ],
 "metadata": {
  "kernelspec": {
   "display_name": "Python 3",
   "language": "python",
   "name": "python3"
  },
  "language_info": {
   "codemirror_mode": {
    "name": "ipython",
    "version": 3
   },
   "file_extension": ".py",
   "mimetype": "text/x-python",
   "name": "python",
   "nbconvert_exporter": "python",
   "pygments_lexer": "ipython3",
   "version": "3.12.4"
  }
 },
 "nbformat": 4,
 "nbformat_minor": 2
}
